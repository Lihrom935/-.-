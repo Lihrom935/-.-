{
 "cells": [
  {
   "cell_type": "markdown",
   "metadata": {},
   "source": [
    "# Исследование тарифов оператора сотовой связи\n",
    "\n",
    "В нашем распоряжении данные 500 пользователей сотового оператора «Мегалайн»: кто они, откуда, каким тарифом пользуются, сколько звонков и сообщений каждый отправил за 2018 год. Клиентам предлагают два тарифных плана: «Смарт» и «Ультра». Нужно проанализировать поведение клиентов и сделать вывод — какой тариф лучше."
   ]
  },
  {
   "cell_type": "markdown",
   "metadata": {},
   "source": [
    "## Изучение данных из файла"
   ]
  },
  {
   "cell_type": "code",
   "execution_count": 1,
   "metadata": {},
   "outputs": [
    {
     "name": "stdout",
     "output_type": "stream",
     "text": [
      "<class 'pandas.core.frame.DataFrame'>\n",
      "RangeIndex: 202607 entries, 0 to 202606\n",
      "Data columns (total 4 columns):\n",
      "id           202607 non-null object\n",
      "call_date    202607 non-null object\n",
      "duration     202607 non-null float64\n",
      "user_id      202607 non-null int64\n",
      "dtypes: float64(1), int64(1), object(2)\n",
      "memory usage: 6.2+ MB\n"
     ]
    },
    {
     "data": {
      "text/html": [
       "<div>\n",
       "<style scoped>\n",
       "    .dataframe tbody tr th:only-of-type {\n",
       "        vertical-align: middle;\n",
       "    }\n",
       "\n",
       "    .dataframe tbody tr th {\n",
       "        vertical-align: top;\n",
       "    }\n",
       "\n",
       "    .dataframe thead th {\n",
       "        text-align: right;\n",
       "    }\n",
       "</style>\n",
       "<table border=\"1\" class=\"dataframe\">\n",
       "  <thead>\n",
       "    <tr style=\"text-align: right;\">\n",
       "      <th></th>\n",
       "      <th>id</th>\n",
       "      <th>call_date</th>\n",
       "      <th>duration</th>\n",
       "      <th>user_id</th>\n",
       "    </tr>\n",
       "  </thead>\n",
       "  <tbody>\n",
       "    <tr>\n",
       "      <td>0</td>\n",
       "      <td>1000_0</td>\n",
       "      <td>2018-07-25</td>\n",
       "      <td>0.00</td>\n",
       "      <td>1000</td>\n",
       "    </tr>\n",
       "    <tr>\n",
       "      <td>1</td>\n",
       "      <td>1000_1</td>\n",
       "      <td>2018-08-17</td>\n",
       "      <td>0.00</td>\n",
       "      <td>1000</td>\n",
       "    </tr>\n",
       "    <tr>\n",
       "      <td>2</td>\n",
       "      <td>1000_2</td>\n",
       "      <td>2018-06-11</td>\n",
       "      <td>2.85</td>\n",
       "      <td>1000</td>\n",
       "    </tr>\n",
       "    <tr>\n",
       "      <td>3</td>\n",
       "      <td>1000_3</td>\n",
       "      <td>2018-09-21</td>\n",
       "      <td>13.80</td>\n",
       "      <td>1000</td>\n",
       "    </tr>\n",
       "    <tr>\n",
       "      <td>4</td>\n",
       "      <td>1000_4</td>\n",
       "      <td>2018-12-15</td>\n",
       "      <td>5.18</td>\n",
       "      <td>1000</td>\n",
       "    </tr>\n",
       "  </tbody>\n",
       "</table>\n",
       "</div>"
      ],
      "text/plain": [
       "       id   call_date  duration  user_id\n",
       "0  1000_0  2018-07-25      0.00     1000\n",
       "1  1000_1  2018-08-17      0.00     1000\n",
       "2  1000_2  2018-06-11      2.85     1000\n",
       "3  1000_3  2018-09-21     13.80     1000\n",
       "4  1000_4  2018-12-15      5.18     1000"
      ]
     },
     "metadata": {},
     "output_type": "display_data"
    },
    {
     "name": "stdout",
     "output_type": "stream",
     "text": [
      "<class 'pandas.core.frame.DataFrame'>\n",
      "RangeIndex: 149396 entries, 0 to 149395\n",
      "Data columns (total 5 columns):\n",
      "Unnamed: 0      149396 non-null int64\n",
      "id              149396 non-null object\n",
      "mb_used         149396 non-null float64\n",
      "session_date    149396 non-null object\n",
      "user_id         149396 non-null int64\n",
      "dtypes: float64(1), int64(2), object(2)\n",
      "memory usage: 5.7+ MB\n"
     ]
    },
    {
     "data": {
      "text/html": [
       "<div>\n",
       "<style scoped>\n",
       "    .dataframe tbody tr th:only-of-type {\n",
       "        vertical-align: middle;\n",
       "    }\n",
       "\n",
       "    .dataframe tbody tr th {\n",
       "        vertical-align: top;\n",
       "    }\n",
       "\n",
       "    .dataframe thead th {\n",
       "        text-align: right;\n",
       "    }\n",
       "</style>\n",
       "<table border=\"1\" class=\"dataframe\">\n",
       "  <thead>\n",
       "    <tr style=\"text-align: right;\">\n",
       "      <th></th>\n",
       "      <th>Unnamed: 0</th>\n",
       "      <th>id</th>\n",
       "      <th>mb_used</th>\n",
       "      <th>session_date</th>\n",
       "      <th>user_id</th>\n",
       "    </tr>\n",
       "  </thead>\n",
       "  <tbody>\n",
       "    <tr>\n",
       "      <td>0</td>\n",
       "      <td>0</td>\n",
       "      <td>1000_0</td>\n",
       "      <td>112.95</td>\n",
       "      <td>2018-11-25</td>\n",
       "      <td>1000</td>\n",
       "    </tr>\n",
       "    <tr>\n",
       "      <td>1</td>\n",
       "      <td>1</td>\n",
       "      <td>1000_1</td>\n",
       "      <td>1052.81</td>\n",
       "      <td>2018-09-07</td>\n",
       "      <td>1000</td>\n",
       "    </tr>\n",
       "    <tr>\n",
       "      <td>2</td>\n",
       "      <td>2</td>\n",
       "      <td>1000_2</td>\n",
       "      <td>1197.26</td>\n",
       "      <td>2018-06-25</td>\n",
       "      <td>1000</td>\n",
       "    </tr>\n",
       "    <tr>\n",
       "      <td>3</td>\n",
       "      <td>3</td>\n",
       "      <td>1000_3</td>\n",
       "      <td>550.27</td>\n",
       "      <td>2018-08-22</td>\n",
       "      <td>1000</td>\n",
       "    </tr>\n",
       "    <tr>\n",
       "      <td>4</td>\n",
       "      <td>4</td>\n",
       "      <td>1000_4</td>\n",
       "      <td>302.56</td>\n",
       "      <td>2018-09-24</td>\n",
       "      <td>1000</td>\n",
       "    </tr>\n",
       "  </tbody>\n",
       "</table>\n",
       "</div>"
      ],
      "text/plain": [
       "   Unnamed: 0      id  mb_used session_date  user_id\n",
       "0           0  1000_0   112.95   2018-11-25     1000\n",
       "1           1  1000_1  1052.81   2018-09-07     1000\n",
       "2           2  1000_2  1197.26   2018-06-25     1000\n",
       "3           3  1000_3   550.27   2018-08-22     1000\n",
       "4           4  1000_4   302.56   2018-09-24     1000"
      ]
     },
     "metadata": {},
     "output_type": "display_data"
    },
    {
     "name": "stdout",
     "output_type": "stream",
     "text": [
      "<class 'pandas.core.frame.DataFrame'>\n",
      "RangeIndex: 123036 entries, 0 to 123035\n",
      "Data columns (total 3 columns):\n",
      "id              123036 non-null object\n",
      "message_date    123036 non-null object\n",
      "user_id         123036 non-null int64\n",
      "dtypes: int64(1), object(2)\n",
      "memory usage: 2.8+ MB\n"
     ]
    },
    {
     "data": {
      "text/html": [
       "<div>\n",
       "<style scoped>\n",
       "    .dataframe tbody tr th:only-of-type {\n",
       "        vertical-align: middle;\n",
       "    }\n",
       "\n",
       "    .dataframe tbody tr th {\n",
       "        vertical-align: top;\n",
       "    }\n",
       "\n",
       "    .dataframe thead th {\n",
       "        text-align: right;\n",
       "    }\n",
       "</style>\n",
       "<table border=\"1\" class=\"dataframe\">\n",
       "  <thead>\n",
       "    <tr style=\"text-align: right;\">\n",
       "      <th></th>\n",
       "      <th>id</th>\n",
       "      <th>message_date</th>\n",
       "      <th>user_id</th>\n",
       "    </tr>\n",
       "  </thead>\n",
       "  <tbody>\n",
       "    <tr>\n",
       "      <td>0</td>\n",
       "      <td>1000_0</td>\n",
       "      <td>2018-06-27</td>\n",
       "      <td>1000</td>\n",
       "    </tr>\n",
       "    <tr>\n",
       "      <td>1</td>\n",
       "      <td>1000_1</td>\n",
       "      <td>2018-10-08</td>\n",
       "      <td>1000</td>\n",
       "    </tr>\n",
       "    <tr>\n",
       "      <td>2</td>\n",
       "      <td>1000_2</td>\n",
       "      <td>2018-08-04</td>\n",
       "      <td>1000</td>\n",
       "    </tr>\n",
       "    <tr>\n",
       "      <td>3</td>\n",
       "      <td>1000_3</td>\n",
       "      <td>2018-06-16</td>\n",
       "      <td>1000</td>\n",
       "    </tr>\n",
       "    <tr>\n",
       "      <td>4</td>\n",
       "      <td>1000_4</td>\n",
       "      <td>2018-12-05</td>\n",
       "      <td>1000</td>\n",
       "    </tr>\n",
       "  </tbody>\n",
       "</table>\n",
       "</div>"
      ],
      "text/plain": [
       "       id message_date  user_id\n",
       "0  1000_0   2018-06-27     1000\n",
       "1  1000_1   2018-10-08     1000\n",
       "2  1000_2   2018-08-04     1000\n",
       "3  1000_3   2018-06-16     1000\n",
       "4  1000_4   2018-12-05     1000"
      ]
     },
     "metadata": {},
     "output_type": "display_data"
    },
    {
     "name": "stdout",
     "output_type": "stream",
     "text": [
      "<class 'pandas.core.frame.DataFrame'>\n",
      "RangeIndex: 2 entries, 0 to 1\n",
      "Data columns (total 8 columns):\n",
      "messages_included        2 non-null int64\n",
      "mb_per_month_included    2 non-null int64\n",
      "minutes_included         2 non-null int64\n",
      "rub_monthly_fee          2 non-null int64\n",
      "rub_per_gb               2 non-null int64\n",
      "rub_per_message          2 non-null int64\n",
      "rub_per_minute           2 non-null int64\n",
      "tariff_name              2 non-null object\n",
      "dtypes: int64(7), object(1)\n",
      "memory usage: 256.0+ bytes\n"
     ]
    },
    {
     "data": {
      "text/html": [
       "<div>\n",
       "<style scoped>\n",
       "    .dataframe tbody tr th:only-of-type {\n",
       "        vertical-align: middle;\n",
       "    }\n",
       "\n",
       "    .dataframe tbody tr th {\n",
       "        vertical-align: top;\n",
       "    }\n",
       "\n",
       "    .dataframe thead th {\n",
       "        text-align: right;\n",
       "    }\n",
       "</style>\n",
       "<table border=\"1\" class=\"dataframe\">\n",
       "  <thead>\n",
       "    <tr style=\"text-align: right;\">\n",
       "      <th></th>\n",
       "      <th>messages_included</th>\n",
       "      <th>mb_per_month_included</th>\n",
       "      <th>minutes_included</th>\n",
       "      <th>rub_monthly_fee</th>\n",
       "      <th>rub_per_gb</th>\n",
       "      <th>rub_per_message</th>\n",
       "      <th>rub_per_minute</th>\n",
       "      <th>tariff_name</th>\n",
       "    </tr>\n",
       "  </thead>\n",
       "  <tbody>\n",
       "    <tr>\n",
       "      <td>0</td>\n",
       "      <td>50</td>\n",
       "      <td>15360</td>\n",
       "      <td>500</td>\n",
       "      <td>550</td>\n",
       "      <td>200</td>\n",
       "      <td>3</td>\n",
       "      <td>3</td>\n",
       "      <td>smart</td>\n",
       "    </tr>\n",
       "    <tr>\n",
       "      <td>1</td>\n",
       "      <td>1000</td>\n",
       "      <td>30720</td>\n",
       "      <td>3000</td>\n",
       "      <td>1950</td>\n",
       "      <td>150</td>\n",
       "      <td>1</td>\n",
       "      <td>1</td>\n",
       "      <td>ultra</td>\n",
       "    </tr>\n",
       "  </tbody>\n",
       "</table>\n",
       "</div>"
      ],
      "text/plain": [
       "   messages_included  mb_per_month_included  minutes_included  \\\n",
       "0                 50                  15360               500   \n",
       "1               1000                  30720              3000   \n",
       "\n",
       "   rub_monthly_fee  rub_per_gb  rub_per_message  rub_per_minute tariff_name  \n",
       "0              550         200                3               3       smart  \n",
       "1             1950         150                1               1       ultra  "
      ]
     },
     "metadata": {},
     "output_type": "display_data"
    },
    {
     "name": "stdout",
     "output_type": "stream",
     "text": [
      "<class 'pandas.core.frame.DataFrame'>\n",
      "RangeIndex: 500 entries, 0 to 499\n",
      "Data columns (total 8 columns):\n",
      "user_id       500 non-null int64\n",
      "age           500 non-null int64\n",
      "churn_date    38 non-null object\n",
      "city          500 non-null object\n",
      "first_name    500 non-null object\n",
      "last_name     500 non-null object\n",
      "reg_date      500 non-null object\n",
      "tariff        500 non-null object\n",
      "dtypes: int64(2), object(6)\n",
      "memory usage: 31.4+ KB\n"
     ]
    },
    {
     "data": {
      "text/html": [
       "<div>\n",
       "<style scoped>\n",
       "    .dataframe tbody tr th:only-of-type {\n",
       "        vertical-align: middle;\n",
       "    }\n",
       "\n",
       "    .dataframe tbody tr th {\n",
       "        vertical-align: top;\n",
       "    }\n",
       "\n",
       "    .dataframe thead th {\n",
       "        text-align: right;\n",
       "    }\n",
       "</style>\n",
       "<table border=\"1\" class=\"dataframe\">\n",
       "  <thead>\n",
       "    <tr style=\"text-align: right;\">\n",
       "      <th></th>\n",
       "      <th>user_id</th>\n",
       "      <th>age</th>\n",
       "      <th>churn_date</th>\n",
       "      <th>city</th>\n",
       "      <th>first_name</th>\n",
       "      <th>last_name</th>\n",
       "      <th>reg_date</th>\n",
       "      <th>tariff</th>\n",
       "    </tr>\n",
       "  </thead>\n",
       "  <tbody>\n",
       "    <tr>\n",
       "      <td>0</td>\n",
       "      <td>1000</td>\n",
       "      <td>52</td>\n",
       "      <td>NaN</td>\n",
       "      <td>Краснодар</td>\n",
       "      <td>Рафаил</td>\n",
       "      <td>Верещагин</td>\n",
       "      <td>2018-05-25</td>\n",
       "      <td>ultra</td>\n",
       "    </tr>\n",
       "    <tr>\n",
       "      <td>1</td>\n",
       "      <td>1001</td>\n",
       "      <td>41</td>\n",
       "      <td>NaN</td>\n",
       "      <td>Москва</td>\n",
       "      <td>Иван</td>\n",
       "      <td>Ежов</td>\n",
       "      <td>2018-11-01</td>\n",
       "      <td>smart</td>\n",
       "    </tr>\n",
       "    <tr>\n",
       "      <td>2</td>\n",
       "      <td>1002</td>\n",
       "      <td>59</td>\n",
       "      <td>NaN</td>\n",
       "      <td>Стерлитамак</td>\n",
       "      <td>Евгений</td>\n",
       "      <td>Абрамович</td>\n",
       "      <td>2018-06-17</td>\n",
       "      <td>smart</td>\n",
       "    </tr>\n",
       "    <tr>\n",
       "      <td>3</td>\n",
       "      <td>1003</td>\n",
       "      <td>23</td>\n",
       "      <td>NaN</td>\n",
       "      <td>Москва</td>\n",
       "      <td>Белла</td>\n",
       "      <td>Белякова</td>\n",
       "      <td>2018-08-17</td>\n",
       "      <td>ultra</td>\n",
       "    </tr>\n",
       "    <tr>\n",
       "      <td>4</td>\n",
       "      <td>1004</td>\n",
       "      <td>68</td>\n",
       "      <td>NaN</td>\n",
       "      <td>Новокузнецк</td>\n",
       "      <td>Татьяна</td>\n",
       "      <td>Авдеенко</td>\n",
       "      <td>2018-05-14</td>\n",
       "      <td>ultra</td>\n",
       "    </tr>\n",
       "  </tbody>\n",
       "</table>\n",
       "</div>"
      ],
      "text/plain": [
       "   user_id  age churn_date         city first_name  last_name    reg_date  \\\n",
       "0     1000   52        NaN    Краснодар     Рафаил  Верещагин  2018-05-25   \n",
       "1     1001   41        NaN       Москва       Иван       Ежов  2018-11-01   \n",
       "2     1002   59        NaN  Стерлитамак    Евгений  Абрамович  2018-06-17   \n",
       "3     1003   23        NaN       Москва      Белла   Белякова  2018-08-17   \n",
       "4     1004   68        NaN  Новокузнецк    Татьяна   Авдеенко  2018-05-14   \n",
       "\n",
       "  tariff  \n",
       "0  ultra  \n",
       "1  smart  \n",
       "2  smart  \n",
       "3  ultra  \n",
       "4  ultra  "
      ]
     },
     "metadata": {},
     "output_type": "display_data"
    }
   ],
   "source": [
    "import pandas as pd\n",
    "\n",
    "import numpy as np\n",
    "\n",
    "import matplotlib.pyplot as plt\n",
    "\n",
    "from scipy import stats as st\n",
    "import numpy as np\n",
    "\n",
    "\n",
    "import warnings # отключаем \"бесполезные\" предупреждения \n",
    "warnings.filterwarnings('ignore')\n",
    "\n",
    "df_calls = pd.read_csv('/datasets/calls.csv')\n",
    "df_internet = pd.read_csv('/datasets/internet.csv')\n",
    "df_messages = pd.read_csv('/datasets/messages.csv')\n",
    "df_tariffs = pd.read_csv('/datasets/tariffs.csv')\n",
    "df_users = pd.read_csv('/datasets/users.csv')\n",
    "\n",
    "\n",
    "df_calls.info()#изучаем датасет со звонками\n",
    "display(df_calls.head())\n",
    "\n",
    "df_internet.info()#изучаем датасет с интернет-трафиком\n",
    "display(df_internet.head())\n",
    "\n",
    "df_messages.info()#изучаем датасет с смс\n",
    "display(df_messages.head())\n",
    "\n",
    "df_tariffs.info()#изучаем датасет с тарифами\n",
    "display(df_tariffs.head())\n",
    "\n",
    "\n",
    "df_users.info()#изучаем датасет с пользователями\n",
    "display(df_users.head())"
   ]
  },
  {
   "cell_type": "markdown",
   "metadata": {},
   "source": [
    "**Вывод: Есть немного пропусков, даты надо привести к формату, с которым можно работать, мегабайты надо перевести в гигабайты, т.к. цена в тарифах за гигабайт.** "
   ]
  },
  {
   "cell_type": "markdown",
   "metadata": {},
   "source": [
    "## Подготовка данных"
   ]
  },
  {
   "cell_type": "code",
   "execution_count": 2,
   "metadata": {},
   "outputs": [
    {
     "data": {
      "text/html": [
       "<div>\n",
       "<style scoped>\n",
       "    .dataframe tbody tr th:only-of-type {\n",
       "        vertical-align: middle;\n",
       "    }\n",
       "\n",
       "    .dataframe tbody tr th {\n",
       "        vertical-align: top;\n",
       "    }\n",
       "\n",
       "    .dataframe thead th {\n",
       "        text-align: right;\n",
       "    }\n",
       "</style>\n",
       "<table border=\"1\" class=\"dataframe\">\n",
       "  <thead>\n",
       "    <tr style=\"text-align: right;\">\n",
       "      <th></th>\n",
       "      <th>id</th>\n",
       "      <th>call_date</th>\n",
       "      <th>duration</th>\n",
       "      <th>user_id</th>\n",
       "      <th>month</th>\n",
       "    </tr>\n",
       "  </thead>\n",
       "  <tbody>\n",
       "    <tr>\n",
       "      <td>0</td>\n",
       "      <td>1000_0</td>\n",
       "      <td>2018-07-25</td>\n",
       "      <td>0</td>\n",
       "      <td>1000</td>\n",
       "      <td>7</td>\n",
       "    </tr>\n",
       "    <tr>\n",
       "      <td>1</td>\n",
       "      <td>1000_1</td>\n",
       "      <td>2018-08-17</td>\n",
       "      <td>0</td>\n",
       "      <td>1000</td>\n",
       "      <td>8</td>\n",
       "    </tr>\n",
       "    <tr>\n",
       "      <td>2</td>\n",
       "      <td>1000_2</td>\n",
       "      <td>2018-06-11</td>\n",
       "      <td>3</td>\n",
       "      <td>1000</td>\n",
       "      <td>6</td>\n",
       "    </tr>\n",
       "    <tr>\n",
       "      <td>3</td>\n",
       "      <td>1000_3</td>\n",
       "      <td>2018-09-21</td>\n",
       "      <td>14</td>\n",
       "      <td>1000</td>\n",
       "      <td>9</td>\n",
       "    </tr>\n",
       "    <tr>\n",
       "      <td>4</td>\n",
       "      <td>1000_4</td>\n",
       "      <td>2018-12-15</td>\n",
       "      <td>6</td>\n",
       "      <td>1000</td>\n",
       "      <td>12</td>\n",
       "    </tr>\n",
       "  </tbody>\n",
       "</table>\n",
       "</div>"
      ],
      "text/plain": [
       "       id  call_date  duration  user_id  month\n",
       "0  1000_0 2018-07-25         0     1000      7\n",
       "1  1000_1 2018-08-17         0     1000      8\n",
       "2  1000_2 2018-06-11         3     1000      6\n",
       "3  1000_3 2018-09-21        14     1000      9\n",
       "4  1000_4 2018-12-15         6     1000     12"
      ]
     },
     "metadata": {},
     "output_type": "display_data"
    }
   ],
   "source": [
    "\n",
    "\n",
    "df_calls['call_date'] = pd.to_datetime(df_calls['call_date'], format='%Y-%m-%d')#приводим дату звонков в правильный формат\n",
    "\n",
    "df_calls['month'] = df_calls['call_date'].dt.month #добавляем в таблицу месяц звонка\n",
    "\n",
    "import math\n",
    "df_calls['duration'] = df_calls['duration'].apply(math.ceil)#округляем длительность звонков до целого в большую сторону\n",
    "display(df_calls.head())"
   ]
  },
  {
   "cell_type": "code",
   "execution_count": 3,
   "metadata": {},
   "outputs": [
    {
     "data": {
      "text/html": [
       "<div>\n",
       "<style scoped>\n",
       "    .dataframe tbody tr th:only-of-type {\n",
       "        vertical-align: middle;\n",
       "    }\n",
       "\n",
       "    .dataframe tbody tr th {\n",
       "        vertical-align: top;\n",
       "    }\n",
       "\n",
       "    .dataframe thead th {\n",
       "        text-align: right;\n",
       "    }\n",
       "</style>\n",
       "<table border=\"1\" class=\"dataframe\">\n",
       "  <thead>\n",
       "    <tr style=\"text-align: right;\">\n",
       "      <th></th>\n",
       "      <th>Unnamed: 0</th>\n",
       "      <th>id</th>\n",
       "      <th>mb_used</th>\n",
       "      <th>session_date</th>\n",
       "      <th>user_id</th>\n",
       "      <th>month</th>\n",
       "    </tr>\n",
       "  </thead>\n",
       "  <tbody>\n",
       "    <tr>\n",
       "      <td>0</td>\n",
       "      <td>0</td>\n",
       "      <td>1000_0</td>\n",
       "      <td>112.95</td>\n",
       "      <td>2018-11-25</td>\n",
       "      <td>1000</td>\n",
       "      <td>11</td>\n",
       "    </tr>\n",
       "    <tr>\n",
       "      <td>1</td>\n",
       "      <td>1</td>\n",
       "      <td>1000_1</td>\n",
       "      <td>1052.81</td>\n",
       "      <td>2018-09-07</td>\n",
       "      <td>1000</td>\n",
       "      <td>9</td>\n",
       "    </tr>\n",
       "    <tr>\n",
       "      <td>2</td>\n",
       "      <td>2</td>\n",
       "      <td>1000_2</td>\n",
       "      <td>1197.26</td>\n",
       "      <td>2018-06-25</td>\n",
       "      <td>1000</td>\n",
       "      <td>6</td>\n",
       "    </tr>\n",
       "    <tr>\n",
       "      <td>3</td>\n",
       "      <td>3</td>\n",
       "      <td>1000_3</td>\n",
       "      <td>550.27</td>\n",
       "      <td>2018-08-22</td>\n",
       "      <td>1000</td>\n",
       "      <td>8</td>\n",
       "    </tr>\n",
       "    <tr>\n",
       "      <td>4</td>\n",
       "      <td>4</td>\n",
       "      <td>1000_4</td>\n",
       "      <td>302.56</td>\n",
       "      <td>2018-09-24</td>\n",
       "      <td>1000</td>\n",
       "      <td>9</td>\n",
       "    </tr>\n",
       "  </tbody>\n",
       "</table>\n",
       "</div>"
      ],
      "text/plain": [
       "   Unnamed: 0      id  mb_used session_date  user_id  month\n",
       "0           0  1000_0   112.95   2018-11-25     1000     11\n",
       "1           1  1000_1  1052.81   2018-09-07     1000      9\n",
       "2           2  1000_2  1197.26   2018-06-25     1000      6\n",
       "3           3  1000_3   550.27   2018-08-22     1000      8\n",
       "4           4  1000_4   302.56   2018-09-24     1000      9"
      ]
     },
     "metadata": {},
     "output_type": "display_data"
    }
   ],
   "source": [
    "#df_internet = df_internet.drop(df_internet.columns[[0]], axis=1) # удаляем ненужный столбец\n",
    "\n",
    "df_internet['session_date'] = pd.to_datetime(df_internet['session_date'], format='%Y-%m-%d')#приводим дату в правильный формат\n",
    "\n",
    "df_internet['month'] = df_internet['session_date'].dt.month #добавляем в таблицу месяц, когда использовался интернет\n",
    "\n",
    "\n",
    "display(df_internet.head())"
   ]
  },
  {
   "cell_type": "markdown",
   "metadata": {},
   "source": [
    "**Округлять интернет-трафик пока не будем, сделаем это после перевода в гигабайты**"
   ]
  },
  {
   "cell_type": "code",
   "execution_count": 4,
   "metadata": {},
   "outputs": [
    {
     "data": {
      "text/html": [
       "<div>\n",
       "<style scoped>\n",
       "    .dataframe tbody tr th:only-of-type {\n",
       "        vertical-align: middle;\n",
       "    }\n",
       "\n",
       "    .dataframe tbody tr th {\n",
       "        vertical-align: top;\n",
       "    }\n",
       "\n",
       "    .dataframe thead th {\n",
       "        text-align: right;\n",
       "    }\n",
       "</style>\n",
       "<table border=\"1\" class=\"dataframe\">\n",
       "  <thead>\n",
       "    <tr style=\"text-align: right;\">\n",
       "      <th></th>\n",
       "      <th>id</th>\n",
       "      <th>message_date</th>\n",
       "      <th>user_id</th>\n",
       "      <th>month</th>\n",
       "    </tr>\n",
       "  </thead>\n",
       "  <tbody>\n",
       "    <tr>\n",
       "      <td>0</td>\n",
       "      <td>1000_0</td>\n",
       "      <td>2018-06-27</td>\n",
       "      <td>1000</td>\n",
       "      <td>6</td>\n",
       "    </tr>\n",
       "    <tr>\n",
       "      <td>1</td>\n",
       "      <td>1000_1</td>\n",
       "      <td>2018-10-08</td>\n",
       "      <td>1000</td>\n",
       "      <td>10</td>\n",
       "    </tr>\n",
       "    <tr>\n",
       "      <td>2</td>\n",
       "      <td>1000_2</td>\n",
       "      <td>2018-08-04</td>\n",
       "      <td>1000</td>\n",
       "      <td>8</td>\n",
       "    </tr>\n",
       "    <tr>\n",
       "      <td>3</td>\n",
       "      <td>1000_3</td>\n",
       "      <td>2018-06-16</td>\n",
       "      <td>1000</td>\n",
       "      <td>6</td>\n",
       "    </tr>\n",
       "    <tr>\n",
       "      <td>4</td>\n",
       "      <td>1000_4</td>\n",
       "      <td>2018-12-05</td>\n",
       "      <td>1000</td>\n",
       "      <td>12</td>\n",
       "    </tr>\n",
       "  </tbody>\n",
       "</table>\n",
       "</div>"
      ],
      "text/plain": [
       "       id message_date  user_id  month\n",
       "0  1000_0   2018-06-27     1000      6\n",
       "1  1000_1   2018-10-08     1000     10\n",
       "2  1000_2   2018-08-04     1000      8\n",
       "3  1000_3   2018-06-16     1000      6\n",
       "4  1000_4   2018-12-05     1000     12"
      ]
     },
     "metadata": {},
     "output_type": "display_data"
    }
   ],
   "source": [
    "df_messages['message_date'] = pd.to_datetime(df_messages['message_date'], format='%Y-%m-%d')#приводим дату в правильный формат\n",
    "\n",
    "df_messages['month'] = df_messages['message_date'].dt.month #добавляем в таблицу месяц, когда отправлено SMS\n",
    "\n",
    "display(df_messages.head())"
   ]
  },
  {
   "cell_type": "code",
   "execution_count": 5,
   "metadata": {},
   "outputs": [
    {
     "data": {
      "text/html": [
       "<div>\n",
       "<style scoped>\n",
       "    .dataframe tbody tr th:only-of-type {\n",
       "        vertical-align: middle;\n",
       "    }\n",
       "\n",
       "    .dataframe tbody tr th {\n",
       "        vertical-align: top;\n",
       "    }\n",
       "\n",
       "    .dataframe thead th {\n",
       "        text-align: right;\n",
       "    }\n",
       "</style>\n",
       "<table border=\"1\" class=\"dataframe\">\n",
       "  <thead>\n",
       "    <tr style=\"text-align: right;\">\n",
       "      <th></th>\n",
       "      <th>messages_included</th>\n",
       "      <th>gb_per_month_included</th>\n",
       "      <th>minutes_included</th>\n",
       "      <th>rub_monthly_fee</th>\n",
       "      <th>rub_per_gb</th>\n",
       "      <th>rub_per_message</th>\n",
       "      <th>rub_per_minute</th>\n",
       "      <th>tariff_name</th>\n",
       "    </tr>\n",
       "  </thead>\n",
       "  <tbody>\n",
       "    <tr>\n",
       "      <td>0</td>\n",
       "      <td>50</td>\n",
       "      <td>15</td>\n",
       "      <td>500</td>\n",
       "      <td>550</td>\n",
       "      <td>200</td>\n",
       "      <td>3</td>\n",
       "      <td>3</td>\n",
       "      <td>smart</td>\n",
       "    </tr>\n",
       "    <tr>\n",
       "      <td>1</td>\n",
       "      <td>1000</td>\n",
       "      <td>30</td>\n",
       "      <td>3000</td>\n",
       "      <td>1950</td>\n",
       "      <td>150</td>\n",
       "      <td>1</td>\n",
       "      <td>1</td>\n",
       "      <td>ultra</td>\n",
       "    </tr>\n",
       "  </tbody>\n",
       "</table>\n",
       "</div>"
      ],
      "text/plain": [
       "   messages_included  gb_per_month_included  minutes_included  \\\n",
       "0                 50                     15               500   \n",
       "1               1000                     30              3000   \n",
       "\n",
       "   rub_monthly_fee  rub_per_gb  rub_per_message  rub_per_minute tariff_name  \n",
       "0              550         200                3               3       smart  \n",
       "1             1950         150                1               1       ultra  "
      ]
     },
     "metadata": {},
     "output_type": "display_data"
    }
   ],
   "source": [
    "#переводим в тарифах значения в гигабайты и переименовываем столбец\n",
    "df_tariffs['mb_per_month_included'] = df_tariffs['mb_per_month_included'] / 1024\n",
    "df_tariffs = df_tariffs.rename(columns = {'mb_per_month_included':'gb_per_month_included'})\n",
    "df_tariffs['gb_per_month_included'] = df_tariffs['gb_per_month_included'].astype(int)\n",
    "display(df_tariffs.head())"
   ]
  },
  {
   "cell_type": "code",
   "execution_count": 6,
   "metadata": {},
   "outputs": [
    {
     "data": {
      "text/html": [
       "<div>\n",
       "<style scoped>\n",
       "    .dataframe tbody tr th:only-of-type {\n",
       "        vertical-align: middle;\n",
       "    }\n",
       "\n",
       "    .dataframe tbody tr th {\n",
       "        vertical-align: top;\n",
       "    }\n",
       "\n",
       "    .dataframe thead th {\n",
       "        text-align: right;\n",
       "    }\n",
       "</style>\n",
       "<table border=\"1\" class=\"dataframe\">\n",
       "  <thead>\n",
       "    <tr style=\"text-align: right;\">\n",
       "      <th></th>\n",
       "      <th>user_id</th>\n",
       "      <th>age</th>\n",
       "      <th>churn_date</th>\n",
       "      <th>city</th>\n",
       "      <th>first_name</th>\n",
       "      <th>last_name</th>\n",
       "      <th>reg_date</th>\n",
       "      <th>tariff</th>\n",
       "    </tr>\n",
       "  </thead>\n",
       "  <tbody>\n",
       "    <tr>\n",
       "      <td>0</td>\n",
       "      <td>1000</td>\n",
       "      <td>52</td>\n",
       "      <td>2018-12-30</td>\n",
       "      <td>Краснодар</td>\n",
       "      <td>Рафаил</td>\n",
       "      <td>Верещагин</td>\n",
       "      <td>2018-05-25</td>\n",
       "      <td>ultra</td>\n",
       "    </tr>\n",
       "    <tr>\n",
       "      <td>1</td>\n",
       "      <td>1001</td>\n",
       "      <td>41</td>\n",
       "      <td>2018-12-30</td>\n",
       "      <td>Москва</td>\n",
       "      <td>Иван</td>\n",
       "      <td>Ежов</td>\n",
       "      <td>2018-11-01</td>\n",
       "      <td>smart</td>\n",
       "    </tr>\n",
       "    <tr>\n",
       "      <td>2</td>\n",
       "      <td>1002</td>\n",
       "      <td>59</td>\n",
       "      <td>2018-12-30</td>\n",
       "      <td>Стерлитамак</td>\n",
       "      <td>Евгений</td>\n",
       "      <td>Абрамович</td>\n",
       "      <td>2018-06-17</td>\n",
       "      <td>smart</td>\n",
       "    </tr>\n",
       "    <tr>\n",
       "      <td>3</td>\n",
       "      <td>1003</td>\n",
       "      <td>23</td>\n",
       "      <td>2018-12-30</td>\n",
       "      <td>Москва</td>\n",
       "      <td>Белла</td>\n",
       "      <td>Белякова</td>\n",
       "      <td>2018-08-17</td>\n",
       "      <td>ultra</td>\n",
       "    </tr>\n",
       "    <tr>\n",
       "      <td>4</td>\n",
       "      <td>1004</td>\n",
       "      <td>68</td>\n",
       "      <td>2018-12-30</td>\n",
       "      <td>Новокузнецк</td>\n",
       "      <td>Татьяна</td>\n",
       "      <td>Авдеенко</td>\n",
       "      <td>2018-05-14</td>\n",
       "      <td>ultra</td>\n",
       "    </tr>\n",
       "  </tbody>\n",
       "</table>\n",
       "</div>"
      ],
      "text/plain": [
       "   user_id  age churn_date         city first_name  last_name   reg_date  \\\n",
       "0     1000   52 2018-12-30    Краснодар     Рафаил  Верещагин 2018-05-25   \n",
       "1     1001   41 2018-12-30       Москва       Иван       Ежов 2018-11-01   \n",
       "2     1002   59 2018-12-30  Стерлитамак    Евгений  Абрамович 2018-06-17   \n",
       "3     1003   23 2018-12-30       Москва      Белла   Белякова 2018-08-17   \n",
       "4     1004   68 2018-12-30  Новокузнецк    Татьяна   Авдеенко 2018-05-14   \n",
       "\n",
       "  tariff  \n",
       "0  ultra  \n",
       "1  smart  \n",
       "2  smart  \n",
       "3  ultra  \n",
       "4  ultra  "
      ]
     },
     "metadata": {},
     "output_type": "display_data"
    }
   ],
   "source": [
    "df_users['churn_date'] = pd.to_datetime(df_users['churn_date'], format='%Y-%m-%d')#приводим дату в правильный формат\n",
    "df_users['reg_date'] = pd.to_datetime(df_users['reg_date'], format='%Y-%m-%d')\n",
    "\n",
    "#заполняем пропуски даты прекращения тарифа, предполагая что он действовал до конца года\n",
    "df_users.loc[df_users['churn_date'].isna(), 'churn_date'] = df_users['churn_date'].max()\n",
    "\n",
    "\n",
    "display(df_users.head())"
   ]
  },
  {
   "cell_type": "code",
   "execution_count": 7,
   "metadata": {},
   "outputs": [
    {
     "data": {
      "text/html": [
       "<div>\n",
       "<style scoped>\n",
       "    .dataframe tbody tr th:only-of-type {\n",
       "        vertical-align: middle;\n",
       "    }\n",
       "\n",
       "    .dataframe tbody tr th {\n",
       "        vertical-align: top;\n",
       "    }\n",
       "\n",
       "    .dataframe thead th {\n",
       "        text-align: right;\n",
       "    }\n",
       "</style>\n",
       "<table border=\"1\" class=\"dataframe\">\n",
       "  <thead>\n",
       "    <tr style=\"text-align: right;\">\n",
       "      <th></th>\n",
       "      <th>user_id</th>\n",
       "      <th>city</th>\n",
       "      <th>tariff</th>\n",
       "    </tr>\n",
       "  </thead>\n",
       "  <tbody>\n",
       "    <tr>\n",
       "      <td>0</td>\n",
       "      <td>1000</td>\n",
       "      <td>Краснодар</td>\n",
       "      <td>ultra</td>\n",
       "    </tr>\n",
       "    <tr>\n",
       "      <td>1</td>\n",
       "      <td>1001</td>\n",
       "      <td>Москва</td>\n",
       "      <td>smart</td>\n",
       "    </tr>\n",
       "    <tr>\n",
       "      <td>2</td>\n",
       "      <td>1002</td>\n",
       "      <td>Стерлитамак</td>\n",
       "      <td>smart</td>\n",
       "    </tr>\n",
       "    <tr>\n",
       "      <td>3</td>\n",
       "      <td>1003</td>\n",
       "      <td>Москва</td>\n",
       "      <td>ultra</td>\n",
       "    </tr>\n",
       "    <tr>\n",
       "      <td>4</td>\n",
       "      <td>1004</td>\n",
       "      <td>Новокузнецк</td>\n",
       "      <td>ultra</td>\n",
       "    </tr>\n",
       "  </tbody>\n",
       "</table>\n",
       "</div>"
      ],
      "text/plain": [
       "   user_id         city tariff\n",
       "0     1000    Краснодар  ultra\n",
       "1     1001       Москва  smart\n",
       "2     1002  Стерлитамак  smart\n",
       "3     1003       Москва  ultra\n",
       "4     1004  Новокузнецк  ultra"
      ]
     },
     "metadata": {},
     "output_type": "display_data"
    }
   ],
   "source": [
    "df_users_small = df_users.drop(df_users.columns[[1, 2, 4, 5, 6]], axis=1) # удаляем несколько ненужных пока столбцов\n",
    "display(df_users_small.head())"
   ]
  },
  {
   "cell_type": "code",
   "execution_count": 8,
   "metadata": {},
   "outputs": [
    {
     "data": {
      "text/html": [
       "<div>\n",
       "<style scoped>\n",
       "    .dataframe tbody tr th:only-of-type {\n",
       "        vertical-align: middle;\n",
       "    }\n",
       "\n",
       "    .dataframe tbody tr th {\n",
       "        vertical-align: top;\n",
       "    }\n",
       "\n",
       "    .dataframe thead th {\n",
       "        text-align: right;\n",
       "    }\n",
       "</style>\n",
       "<table border=\"1\" class=\"dataframe\">\n",
       "  <thead>\n",
       "    <tr style=\"text-align: right;\">\n",
       "      <th></th>\n",
       "      <th></th>\n",
       "      <th>messages</th>\n",
       "    </tr>\n",
       "    <tr>\n",
       "      <th>user_id</th>\n",
       "      <th>month</th>\n",
       "      <th></th>\n",
       "    </tr>\n",
       "  </thead>\n",
       "  <tbody>\n",
       "    <tr>\n",
       "      <td rowspan=\"5\" valign=\"top\">1000</td>\n",
       "      <td>5</td>\n",
       "      <td>22</td>\n",
       "    </tr>\n",
       "    <tr>\n",
       "      <td>6</td>\n",
       "      <td>60</td>\n",
       "    </tr>\n",
       "    <tr>\n",
       "      <td>7</td>\n",
       "      <td>75</td>\n",
       "    </tr>\n",
       "    <tr>\n",
       "      <td>8</td>\n",
       "      <td>81</td>\n",
       "    </tr>\n",
       "    <tr>\n",
       "      <td>9</td>\n",
       "      <td>57</td>\n",
       "    </tr>\n",
       "    <tr>\n",
       "      <td>...</td>\n",
       "      <td>...</td>\n",
       "      <td>...</td>\n",
       "    </tr>\n",
       "    <tr>\n",
       "      <td>1498</td>\n",
       "      <td>10</td>\n",
       "      <td>42</td>\n",
       "    </tr>\n",
       "    <tr>\n",
       "      <td rowspan=\"4\" valign=\"top\">1499</td>\n",
       "      <td>9</td>\n",
       "      <td>11</td>\n",
       "    </tr>\n",
       "    <tr>\n",
       "      <td>10</td>\n",
       "      <td>48</td>\n",
       "    </tr>\n",
       "    <tr>\n",
       "      <td>11</td>\n",
       "      <td>59</td>\n",
       "    </tr>\n",
       "    <tr>\n",
       "      <td>12</td>\n",
       "      <td>66</td>\n",
       "    </tr>\n",
       "  </tbody>\n",
       "</table>\n",
       "<p>2717 rows × 1 columns</p>\n",
       "</div>"
      ],
      "text/plain": [
       "               messages\n",
       "user_id month          \n",
       "1000    5            22\n",
       "        6            60\n",
       "        7            75\n",
       "        8            81\n",
       "        9            57\n",
       "...                 ...\n",
       "1498    10           42\n",
       "1499    9            11\n",
       "        10           48\n",
       "        11           59\n",
       "        12           66\n",
       "\n",
       "[2717 rows x 1 columns]"
      ]
     },
     "metadata": {},
     "output_type": "display_data"
    }
   ],
   "source": [
    "#создаем сводную таблицу количества SMS каждого пользователя по месяцам\n",
    "df_messages_users_month = df_messages.pivot_table(index=['user_id', 'month'], values='id', aggfunc='count')\n",
    "df_messages_users_month = df_messages_users_month.rename(columns = {'id':'messages'})\n",
    "\n",
    "display(df_messages_users_month)"
   ]
  },
  {
   "cell_type": "code",
   "execution_count": 9,
   "metadata": {},
   "outputs": [
    {
     "data": {
      "text/html": [
       "<div>\n",
       "<style scoped>\n",
       "    .dataframe tbody tr th:only-of-type {\n",
       "        vertical-align: middle;\n",
       "    }\n",
       "\n",
       "    .dataframe tbody tr th {\n",
       "        vertical-align: top;\n",
       "    }\n",
       "\n",
       "    .dataframe thead th {\n",
       "        text-align: right;\n",
       "    }\n",
       "</style>\n",
       "<table border=\"1\" class=\"dataframe\">\n",
       "  <thead>\n",
       "    <tr style=\"text-align: right;\">\n",
       "      <th></th>\n",
       "      <th></th>\n",
       "      <th>duration</th>\n",
       "    </tr>\n",
       "    <tr>\n",
       "      <th>user_id</th>\n",
       "      <th>month</th>\n",
       "      <th></th>\n",
       "    </tr>\n",
       "  </thead>\n",
       "  <tbody>\n",
       "    <tr>\n",
       "      <td rowspan=\"5\" valign=\"top\">1000</td>\n",
       "      <td>5</td>\n",
       "      <td>159</td>\n",
       "    </tr>\n",
       "    <tr>\n",
       "      <td>6</td>\n",
       "      <td>172</td>\n",
       "    </tr>\n",
       "    <tr>\n",
       "      <td>7</td>\n",
       "      <td>340</td>\n",
       "    </tr>\n",
       "    <tr>\n",
       "      <td>8</td>\n",
       "      <td>408</td>\n",
       "    </tr>\n",
       "    <tr>\n",
       "      <td>9</td>\n",
       "      <td>466</td>\n",
       "    </tr>\n",
       "    <tr>\n",
       "      <td>...</td>\n",
       "      <td>...</td>\n",
       "      <td>...</td>\n",
       "    </tr>\n",
       "    <tr>\n",
       "      <td>1498</td>\n",
       "      <td>10</td>\n",
       "      <td>247</td>\n",
       "    </tr>\n",
       "    <tr>\n",
       "      <td rowspan=\"4\" valign=\"top\">1499</td>\n",
       "      <td>9</td>\n",
       "      <td>70</td>\n",
       "    </tr>\n",
       "    <tr>\n",
       "      <td>10</td>\n",
       "      <td>449</td>\n",
       "    </tr>\n",
       "    <tr>\n",
       "      <td>11</td>\n",
       "      <td>612</td>\n",
       "    </tr>\n",
       "    <tr>\n",
       "      <td>12</td>\n",
       "      <td>492</td>\n",
       "    </tr>\n",
       "  </tbody>\n",
       "</table>\n",
       "<p>3174 rows × 1 columns</p>\n",
       "</div>"
      ],
      "text/plain": [
       "               duration\n",
       "user_id month          \n",
       "1000    5           159\n",
       "        6           172\n",
       "        7           340\n",
       "        8           408\n",
       "        9           466\n",
       "...                 ...\n",
       "1498    10          247\n",
       "1499    9            70\n",
       "        10          449\n",
       "        11          612\n",
       "        12          492\n",
       "\n",
       "[3174 rows x 1 columns]"
      ]
     },
     "metadata": {},
     "output_type": "display_data"
    }
   ],
   "source": [
    "#создаем сводную таблицу длительности звонков каждого пользователя по месяцам\n",
    "df_calls_users_month = df_calls.pivot_table(index=['user_id', 'month'], values='duration', aggfunc='sum')\n",
    "display(df_calls_users_month)"
   ]
  },
  {
   "cell_type": "code",
   "execution_count": 10,
   "metadata": {
    "scrolled": false
   },
   "outputs": [
    {
     "data": {
      "text/html": [
       "<div>\n",
       "<style scoped>\n",
       "    .dataframe tbody tr th:only-of-type {\n",
       "        vertical-align: middle;\n",
       "    }\n",
       "\n",
       "    .dataframe tbody tr th {\n",
       "        vertical-align: top;\n",
       "    }\n",
       "\n",
       "    .dataframe thead th {\n",
       "        text-align: right;\n",
       "    }\n",
       "</style>\n",
       "<table border=\"1\" class=\"dataframe\">\n",
       "  <thead>\n",
       "    <tr style=\"text-align: right;\">\n",
       "      <th></th>\n",
       "      <th></th>\n",
       "      <th>gb_used</th>\n",
       "    </tr>\n",
       "    <tr>\n",
       "      <th>user_id</th>\n",
       "      <th>month</th>\n",
       "      <th></th>\n",
       "    </tr>\n",
       "  </thead>\n",
       "  <tbody>\n",
       "    <tr>\n",
       "      <td rowspan=\"5\" valign=\"top\">1000</td>\n",
       "      <td>5</td>\n",
       "      <td>3</td>\n",
       "    </tr>\n",
       "    <tr>\n",
       "      <td>6</td>\n",
       "      <td>23</td>\n",
       "    </tr>\n",
       "    <tr>\n",
       "      <td>7</td>\n",
       "      <td>14</td>\n",
       "    </tr>\n",
       "    <tr>\n",
       "      <td>8</td>\n",
       "      <td>14</td>\n",
       "    </tr>\n",
       "    <tr>\n",
       "      <td>9</td>\n",
       "      <td>15</td>\n",
       "    </tr>\n",
       "    <tr>\n",
       "      <td>...</td>\n",
       "      <td>...</td>\n",
       "      <td>...</td>\n",
       "    </tr>\n",
       "    <tr>\n",
       "      <td>1498</td>\n",
       "      <td>10</td>\n",
       "      <td>21</td>\n",
       "    </tr>\n",
       "    <tr>\n",
       "      <td rowspan=\"4\" valign=\"top\">1499</td>\n",
       "      <td>9</td>\n",
       "      <td>2</td>\n",
       "    </tr>\n",
       "    <tr>\n",
       "      <td>10</td>\n",
       "      <td>18</td>\n",
       "    </tr>\n",
       "    <tr>\n",
       "      <td>11</td>\n",
       "      <td>18</td>\n",
       "    </tr>\n",
       "    <tr>\n",
       "      <td>12</td>\n",
       "      <td>13</td>\n",
       "    </tr>\n",
       "  </tbody>\n",
       "</table>\n",
       "<p>3203 rows × 1 columns</p>\n",
       "</div>"
      ],
      "text/plain": [
       "               gb_used\n",
       "user_id month         \n",
       "1000    5            3\n",
       "        6           23\n",
       "        7           14\n",
       "        8           14\n",
       "        9           15\n",
       "...                ...\n",
       "1498    10          21\n",
       "1499    9            2\n",
       "        10          18\n",
       "        11          18\n",
       "        12          13\n",
       "\n",
       "[3203 rows x 1 columns]"
      ]
     },
     "metadata": {},
     "output_type": "display_data"
    }
   ],
   "source": [
    "#создаем сводную таблицу интернет-трафика каждого пользователя по месяцам\n",
    "df_internet_users_month = df_internet.pivot_table(index=['user_id', 'month'], values='mb_used', aggfunc='sum')\n",
    "\n",
    "#переводим мегабайты в гигабайты т.к. цена в тарифах идет за гигабайт\n",
    "df_internet_users_month['mb_used'] = df_internet_users_month['mb_used'] / 1024\n",
    "df_internet_users_month = df_internet_users_month.rename(columns = {'mb_used':'gb_used'})\n",
    "\n",
    "#округляем интернет-трафик до целого в большую сторону\n",
    "df_internet_users_month['gb_used'] = df_internet_users_month['gb_used'].apply(math.ceil)\n",
    "\n",
    "display(df_internet_users_month)"
   ]
  },
  {
   "cell_type": "code",
   "execution_count": 11,
   "metadata": {},
   "outputs": [
    {
     "data": {
      "text/html": [
       "<div>\n",
       "<style scoped>\n",
       "    .dataframe tbody tr th:only-of-type {\n",
       "        vertical-align: middle;\n",
       "    }\n",
       "\n",
       "    .dataframe tbody tr th {\n",
       "        vertical-align: top;\n",
       "    }\n",
       "\n",
       "    .dataframe thead th {\n",
       "        text-align: right;\n",
       "    }\n",
       "</style>\n",
       "<table border=\"1\" class=\"dataframe\">\n",
       "  <thead>\n",
       "    <tr style=\"text-align: right;\">\n",
       "      <th></th>\n",
       "      <th></th>\n",
       "      <th>duration</th>\n",
       "      <th>messages</th>\n",
       "    </tr>\n",
       "    <tr>\n",
       "      <th>user_id</th>\n",
       "      <th>month</th>\n",
       "      <th></th>\n",
       "      <th></th>\n",
       "    </tr>\n",
       "  </thead>\n",
       "  <tbody>\n",
       "    <tr>\n",
       "      <td rowspan=\"5\" valign=\"top\">1000</td>\n",
       "      <td>5</td>\n",
       "      <td>159.0</td>\n",
       "      <td>22.0</td>\n",
       "    </tr>\n",
       "    <tr>\n",
       "      <td>6</td>\n",
       "      <td>172.0</td>\n",
       "      <td>60.0</td>\n",
       "    </tr>\n",
       "    <tr>\n",
       "      <td>7</td>\n",
       "      <td>340.0</td>\n",
       "      <td>75.0</td>\n",
       "    </tr>\n",
       "    <tr>\n",
       "      <td>8</td>\n",
       "      <td>408.0</td>\n",
       "      <td>81.0</td>\n",
       "    </tr>\n",
       "    <tr>\n",
       "      <td>9</td>\n",
       "      <td>466.0</td>\n",
       "      <td>57.0</td>\n",
       "    </tr>\n",
       "    <tr>\n",
       "      <td>...</td>\n",
       "      <td>...</td>\n",
       "      <td>...</td>\n",
       "      <td>...</td>\n",
       "    </tr>\n",
       "    <tr>\n",
       "      <td rowspan=\"5\" valign=\"top\">1489</td>\n",
       "      <td>8</td>\n",
       "      <td>0.0</td>\n",
       "      <td>17.0</td>\n",
       "    </tr>\n",
       "    <tr>\n",
       "      <td>9</td>\n",
       "      <td>0.0</td>\n",
       "      <td>32.0</td>\n",
       "    </tr>\n",
       "    <tr>\n",
       "      <td>10</td>\n",
       "      <td>0.0</td>\n",
       "      <td>21.0</td>\n",
       "    </tr>\n",
       "    <tr>\n",
       "      <td>11</td>\n",
       "      <td>0.0</td>\n",
       "      <td>20.0</td>\n",
       "    </tr>\n",
       "    <tr>\n",
       "      <td>12</td>\n",
       "      <td>0.0</td>\n",
       "      <td>35.0</td>\n",
       "    </tr>\n",
       "  </tbody>\n",
       "</table>\n",
       "<p>3213 rows × 2 columns</p>\n",
       "</div>"
      ],
      "text/plain": [
       "               duration  messages\n",
       "user_id month                    \n",
       "1000    5         159.0      22.0\n",
       "        6         172.0      60.0\n",
       "        7         340.0      75.0\n",
       "        8         408.0      81.0\n",
       "        9         466.0      57.0\n",
       "...                 ...       ...\n",
       "1489    8           0.0      17.0\n",
       "        9           0.0      32.0\n",
       "        10          0.0      21.0\n",
       "        11          0.0      20.0\n",
       "        12          0.0      35.0\n",
       "\n",
       "[3213 rows x 2 columns]"
      ]
     },
     "metadata": {},
     "output_type": "display_data"
    }
   ],
   "source": [
    "# объединяем сводные таблицы по звонкам и смс методом 'merge()'\n",
    "\n",
    "stat_user_month = df_calls_users_month.merge(df_messages_users_month, on=['user_id', 'month'], how='outer')\n",
    "stat_user_month.loc[stat_user_month['duration'].isna(), 'duration'] = 0.0\n",
    "stat_user_month.loc[stat_user_month['messages'].isna(), 'messages'] = 0.0 # заполняем пропуски\n",
    "display(stat_user_month)"
   ]
  },
  {
   "cell_type": "code",
   "execution_count": 12,
   "metadata": {},
   "outputs": [
    {
     "name": "stdout",
     "output_type": "stream",
     "text": [
      "<class 'pandas.core.frame.DataFrame'>\n",
      "MultiIndex: 3214 entries, (1000, 5) to (1476, 4)\n",
      "Data columns (total 3 columns):\n",
      "duration    3214 non-null float64\n",
      "messages    3214 non-null float64\n",
      "gb_used     3214 non-null float64\n",
      "dtypes: float64(3)\n",
      "memory usage: 248.8 KB\n"
     ]
    },
    {
     "data": {
      "text/html": [
       "<div>\n",
       "<style scoped>\n",
       "    .dataframe tbody tr th:only-of-type {\n",
       "        vertical-align: middle;\n",
       "    }\n",
       "\n",
       "    .dataframe tbody tr th {\n",
       "        vertical-align: top;\n",
       "    }\n",
       "\n",
       "    .dataframe thead th {\n",
       "        text-align: right;\n",
       "    }\n",
       "</style>\n",
       "<table border=\"1\" class=\"dataframe\">\n",
       "  <thead>\n",
       "    <tr style=\"text-align: right;\">\n",
       "      <th></th>\n",
       "      <th></th>\n",
       "      <th>duration</th>\n",
       "      <th>messages</th>\n",
       "      <th>gb_used</th>\n",
       "    </tr>\n",
       "    <tr>\n",
       "      <th>user_id</th>\n",
       "      <th>month</th>\n",
       "      <th></th>\n",
       "      <th></th>\n",
       "      <th></th>\n",
       "    </tr>\n",
       "  </thead>\n",
       "  <tbody>\n",
       "    <tr>\n",
       "      <td rowspan=\"5\" valign=\"top\">1000</td>\n",
       "      <td>5</td>\n",
       "      <td>159.0</td>\n",
       "      <td>22.0</td>\n",
       "      <td>3.0</td>\n",
       "    </tr>\n",
       "    <tr>\n",
       "      <td>6</td>\n",
       "      <td>172.0</td>\n",
       "      <td>60.0</td>\n",
       "      <td>23.0</td>\n",
       "    </tr>\n",
       "    <tr>\n",
       "      <td>7</td>\n",
       "      <td>340.0</td>\n",
       "      <td>75.0</td>\n",
       "      <td>14.0</td>\n",
       "    </tr>\n",
       "    <tr>\n",
       "      <td>8</td>\n",
       "      <td>408.0</td>\n",
       "      <td>81.0</td>\n",
       "      <td>14.0</td>\n",
       "    </tr>\n",
       "    <tr>\n",
       "      <td>9</td>\n",
       "      <td>466.0</td>\n",
       "      <td>57.0</td>\n",
       "      <td>15.0</td>\n",
       "    </tr>\n",
       "    <tr>\n",
       "      <td>...</td>\n",
       "      <td>...</td>\n",
       "      <td>...</td>\n",
       "      <td>...</td>\n",
       "      <td>...</td>\n",
       "    </tr>\n",
       "    <tr>\n",
       "      <td rowspan=\"4\" valign=\"top\">1489</td>\n",
       "      <td>9</td>\n",
       "      <td>0.0</td>\n",
       "      <td>32.0</td>\n",
       "      <td>17.0</td>\n",
       "    </tr>\n",
       "    <tr>\n",
       "      <td>10</td>\n",
       "      <td>0.0</td>\n",
       "      <td>21.0</td>\n",
       "      <td>20.0</td>\n",
       "    </tr>\n",
       "    <tr>\n",
       "      <td>11</td>\n",
       "      <td>0.0</td>\n",
       "      <td>20.0</td>\n",
       "      <td>18.0</td>\n",
       "    </tr>\n",
       "    <tr>\n",
       "      <td>12</td>\n",
       "      <td>0.0</td>\n",
       "      <td>35.0</td>\n",
       "      <td>17.0</td>\n",
       "    </tr>\n",
       "    <tr>\n",
       "      <td>1476</td>\n",
       "      <td>4</td>\n",
       "      <td>0.0</td>\n",
       "      <td>0.0</td>\n",
       "      <td>1.0</td>\n",
       "    </tr>\n",
       "  </tbody>\n",
       "</table>\n",
       "<p>3214 rows × 3 columns</p>\n",
       "</div>"
      ],
      "text/plain": [
       "               duration  messages  gb_used\n",
       "user_id month                             \n",
       "1000    5         159.0      22.0      3.0\n",
       "        6         172.0      60.0     23.0\n",
       "        7         340.0      75.0     14.0\n",
       "        8         408.0      81.0     14.0\n",
       "        9         466.0      57.0     15.0\n",
       "...                 ...       ...      ...\n",
       "1489    9           0.0      32.0     17.0\n",
       "        10          0.0      21.0     20.0\n",
       "        11          0.0      20.0     18.0\n",
       "        12          0.0      35.0     17.0\n",
       "1476    4           0.0       0.0      1.0\n",
       "\n",
       "[3214 rows x 3 columns]"
      ]
     },
     "metadata": {},
     "output_type": "display_data"
    }
   ],
   "source": [
    "# объединяем сводные таблицы по звонкам, смс и трафиком методом 'merge()'\n",
    "\n",
    "stat_user_month = stat_user_month.merge(df_internet_users_month, on=['user_id', 'month'], how='outer')\n",
    "stat_user_month.loc[stat_user_month['duration'].isna(), 'duration'] = 0.0\n",
    "stat_user_month.loc[stat_user_month['messages'].isna(), 'messages'] = 0.0 # заполняем пропуски\n",
    "stat_user_month.loc[stat_user_month['gb_used'].isna(), 'gb_used'] = 0.0\n",
    "stat_user_month.info()\n",
    "display(stat_user_month)"
   ]
  },
  {
   "cell_type": "code",
   "execution_count": 13,
   "metadata": {},
   "outputs": [
    {
     "data": {
      "text/html": [
       "<div>\n",
       "<style scoped>\n",
       "    .dataframe tbody tr th:only-of-type {\n",
       "        vertical-align: middle;\n",
       "    }\n",
       "\n",
       "    .dataframe tbody tr th {\n",
       "        vertical-align: top;\n",
       "    }\n",
       "\n",
       "    .dataframe thead th {\n",
       "        text-align: right;\n",
       "    }\n",
       "</style>\n",
       "<table border=\"1\" class=\"dataframe\">\n",
       "  <thead>\n",
       "    <tr style=\"text-align: right;\">\n",
       "      <th></th>\n",
       "      <th>user_id</th>\n",
       "      <th>duration</th>\n",
       "      <th>messages</th>\n",
       "      <th>gb_used</th>\n",
       "      <th>tariff</th>\n",
       "      <th>city</th>\n",
       "    </tr>\n",
       "  </thead>\n",
       "  <tbody>\n",
       "    <tr>\n",
       "      <td>0</td>\n",
       "      <td>1000</td>\n",
       "      <td>159.0</td>\n",
       "      <td>22.0</td>\n",
       "      <td>3.0</td>\n",
       "      <td>ultra</td>\n",
       "      <td>Краснодар</td>\n",
       "    </tr>\n",
       "    <tr>\n",
       "      <td>1</td>\n",
       "      <td>1000</td>\n",
       "      <td>172.0</td>\n",
       "      <td>60.0</td>\n",
       "      <td>23.0</td>\n",
       "      <td>ultra</td>\n",
       "      <td>Краснодар</td>\n",
       "    </tr>\n",
       "    <tr>\n",
       "      <td>2</td>\n",
       "      <td>1000</td>\n",
       "      <td>340.0</td>\n",
       "      <td>75.0</td>\n",
       "      <td>14.0</td>\n",
       "      <td>ultra</td>\n",
       "      <td>Краснодар</td>\n",
       "    </tr>\n",
       "    <tr>\n",
       "      <td>3</td>\n",
       "      <td>1000</td>\n",
       "      <td>408.0</td>\n",
       "      <td>81.0</td>\n",
       "      <td>14.0</td>\n",
       "      <td>ultra</td>\n",
       "      <td>Краснодар</td>\n",
       "    </tr>\n",
       "    <tr>\n",
       "      <td>4</td>\n",
       "      <td>1000</td>\n",
       "      <td>466.0</td>\n",
       "      <td>57.0</td>\n",
       "      <td>15.0</td>\n",
       "      <td>ultra</td>\n",
       "      <td>Краснодар</td>\n",
       "    </tr>\n",
       "    <tr>\n",
       "      <td>5</td>\n",
       "      <td>1000</td>\n",
       "      <td>350.0</td>\n",
       "      <td>73.0</td>\n",
       "      <td>15.0</td>\n",
       "      <td>ultra</td>\n",
       "      <td>Краснодар</td>\n",
       "    </tr>\n",
       "    <tr>\n",
       "      <td>6</td>\n",
       "      <td>1000</td>\n",
       "      <td>338.0</td>\n",
       "      <td>58.0</td>\n",
       "      <td>15.0</td>\n",
       "      <td>ultra</td>\n",
       "      <td>Краснодар</td>\n",
       "    </tr>\n",
       "    <tr>\n",
       "      <td>7</td>\n",
       "      <td>1000</td>\n",
       "      <td>333.0</td>\n",
       "      <td>70.0</td>\n",
       "      <td>10.0</td>\n",
       "      <td>ultra</td>\n",
       "      <td>Краснодар</td>\n",
       "    </tr>\n",
       "    <tr>\n",
       "      <td>8</td>\n",
       "      <td>1001</td>\n",
       "      <td>430.0</td>\n",
       "      <td>0.0</td>\n",
       "      <td>18.0</td>\n",
       "      <td>smart</td>\n",
       "      <td>Москва</td>\n",
       "    </tr>\n",
       "    <tr>\n",
       "      <td>9</td>\n",
       "      <td>1001</td>\n",
       "      <td>414.0</td>\n",
       "      <td>0.0</td>\n",
       "      <td>14.0</td>\n",
       "      <td>smart</td>\n",
       "      <td>Москва</td>\n",
       "    </tr>\n",
       "    <tr>\n",
       "      <td>10</td>\n",
       "      <td>1002</td>\n",
       "      <td>117.0</td>\n",
       "      <td>4.0</td>\n",
       "      <td>11.0</td>\n",
       "      <td>smart</td>\n",
       "      <td>Стерлитамак</td>\n",
       "    </tr>\n",
       "    <tr>\n",
       "      <td>11</td>\n",
       "      <td>1002</td>\n",
       "      <td>214.0</td>\n",
       "      <td>11.0</td>\n",
       "      <td>18.0</td>\n",
       "      <td>smart</td>\n",
       "      <td>Стерлитамак</td>\n",
       "    </tr>\n",
       "    <tr>\n",
       "      <td>12</td>\n",
       "      <td>1002</td>\n",
       "      <td>289.0</td>\n",
       "      <td>13.0</td>\n",
       "      <td>20.0</td>\n",
       "      <td>smart</td>\n",
       "      <td>Стерлитамак</td>\n",
       "    </tr>\n",
       "    <tr>\n",
       "      <td>13</td>\n",
       "      <td>1002</td>\n",
       "      <td>206.0</td>\n",
       "      <td>4.0</td>\n",
       "      <td>17.0</td>\n",
       "      <td>smart</td>\n",
       "      <td>Стерлитамак</td>\n",
       "    </tr>\n",
       "    <tr>\n",
       "      <td>14</td>\n",
       "      <td>1002</td>\n",
       "      <td>212.0</td>\n",
       "      <td>10.0</td>\n",
       "      <td>14.0</td>\n",
       "      <td>smart</td>\n",
       "      <td>Стерлитамак</td>\n",
       "    </tr>\n",
       "    <tr>\n",
       "      <td>15</td>\n",
       "      <td>1002</td>\n",
       "      <td>243.0</td>\n",
       "      <td>16.0</td>\n",
       "      <td>19.0</td>\n",
       "      <td>smart</td>\n",
       "      <td>Стерлитамак</td>\n",
       "    </tr>\n",
       "    <tr>\n",
       "      <td>16</td>\n",
       "      <td>1002</td>\n",
       "      <td>236.0</td>\n",
       "      <td>12.0</td>\n",
       "      <td>18.0</td>\n",
       "      <td>smart</td>\n",
       "      <td>Стерлитамак</td>\n",
       "    </tr>\n",
       "    <tr>\n",
       "      <td>17</td>\n",
       "      <td>1003</td>\n",
       "      <td>380.0</td>\n",
       "      <td>37.0</td>\n",
       "      <td>9.0</td>\n",
       "      <td>ultra</td>\n",
       "      <td>Москва</td>\n",
       "    </tr>\n",
       "    <tr>\n",
       "      <td>18</td>\n",
       "      <td>1003</td>\n",
       "      <td>961.0</td>\n",
       "      <td>91.0</td>\n",
       "      <td>13.0</td>\n",
       "      <td>ultra</td>\n",
       "      <td>Москва</td>\n",
       "    </tr>\n",
       "    <tr>\n",
       "      <td>19</td>\n",
       "      <td>1003</td>\n",
       "      <td>855.0</td>\n",
       "      <td>83.0</td>\n",
       "      <td>15.0</td>\n",
       "      <td>ultra</td>\n",
       "      <td>Москва</td>\n",
       "    </tr>\n",
       "  </tbody>\n",
       "</table>\n",
       "</div>"
      ],
      "text/plain": [
       "    user_id  duration  messages  gb_used tariff         city\n",
       "0      1000     159.0      22.0      3.0  ultra    Краснодар\n",
       "1      1000     172.0      60.0     23.0  ultra    Краснодар\n",
       "2      1000     340.0      75.0     14.0  ultra    Краснодар\n",
       "3      1000     408.0      81.0     14.0  ultra    Краснодар\n",
       "4      1000     466.0      57.0     15.0  ultra    Краснодар\n",
       "5      1000     350.0      73.0     15.0  ultra    Краснодар\n",
       "6      1000     338.0      58.0     15.0  ultra    Краснодар\n",
       "7      1000     333.0      70.0     10.0  ultra    Краснодар\n",
       "8      1001     430.0       0.0     18.0  smart       Москва\n",
       "9      1001     414.0       0.0     14.0  smart       Москва\n",
       "10     1002     117.0       4.0     11.0  smart  Стерлитамак\n",
       "11     1002     214.0      11.0     18.0  smart  Стерлитамак\n",
       "12     1002     289.0      13.0     20.0  smart  Стерлитамак\n",
       "13     1002     206.0       4.0     17.0  smart  Стерлитамак\n",
       "14     1002     212.0      10.0     14.0  smart  Стерлитамак\n",
       "15     1002     243.0      16.0     19.0  smart  Стерлитамак\n",
       "16     1002     236.0      12.0     18.0  smart  Стерлитамак\n",
       "17     1003     380.0      37.0      9.0  ultra       Москва\n",
       "18     1003     961.0      91.0     13.0  ultra       Москва\n",
       "19     1003     855.0      83.0     15.0  ultra       Москва"
      ]
     },
     "metadata": {},
     "output_type": "display_data"
    }
   ],
   "source": [
    "# добавляем в таблицу название тарифа и город\n",
    "stat_user_month = stat_user_month.merge(df_users_small[['user_id', 'tariff', 'city']], on='user_id', how='left')\n",
    "display(stat_user_month.head(20))"
   ]
  },
  {
   "cell_type": "code",
   "execution_count": 14,
   "metadata": {},
   "outputs": [
    {
     "data": {
      "text/plain": [
       "(3214, 6)"
      ]
     },
     "execution_count": 14,
     "metadata": {},
     "output_type": "execute_result"
    }
   ],
   "source": [
    "stat_user_month.shape"
   ]
  },
  {
   "cell_type": "code",
   "execution_count": 15,
   "metadata": {},
   "outputs": [
    {
     "data": {
      "text/plain": [
       "498"
      ]
     },
     "execution_count": 15,
     "metadata": {},
     "output_type": "execute_result"
    }
   ],
   "source": [
    "stat_user_month.user_id.nunique()"
   ]
  },
  {
   "cell_type": "code",
   "execution_count": 16,
   "metadata": {},
   "outputs": [
    {
     "data": {
      "text/html": [
       "<div>\n",
       "<style scoped>\n",
       "    .dataframe tbody tr th:only-of-type {\n",
       "        vertical-align: middle;\n",
       "    }\n",
       "\n",
       "    .dataframe tbody tr th {\n",
       "        vertical-align: top;\n",
       "    }\n",
       "\n",
       "    .dataframe thead th {\n",
       "        text-align: right;\n",
       "    }\n",
       "</style>\n",
       "<table border=\"1\" class=\"dataframe\">\n",
       "  <thead>\n",
       "    <tr style=\"text-align: right;\">\n",
       "      <th></th>\n",
       "      <th>user_id</th>\n",
       "      <th>duration</th>\n",
       "      <th>messages</th>\n",
       "      <th>gb_used</th>\n",
       "      <th>tariff</th>\n",
       "      <th>city</th>\n",
       "      <th>proceeds</th>\n",
       "    </tr>\n",
       "  </thead>\n",
       "  <tbody>\n",
       "    <tr>\n",
       "      <td>0</td>\n",
       "      <td>1000</td>\n",
       "      <td>159.0</td>\n",
       "      <td>22.0</td>\n",
       "      <td>3.0</td>\n",
       "      <td>ultra</td>\n",
       "      <td>Краснодар</td>\n",
       "      <td>1950.0</td>\n",
       "    </tr>\n",
       "    <tr>\n",
       "      <td>1</td>\n",
       "      <td>1000</td>\n",
       "      <td>172.0</td>\n",
       "      <td>60.0</td>\n",
       "      <td>23.0</td>\n",
       "      <td>ultra</td>\n",
       "      <td>Краснодар</td>\n",
       "      <td>1950.0</td>\n",
       "    </tr>\n",
       "    <tr>\n",
       "      <td>2</td>\n",
       "      <td>1000</td>\n",
       "      <td>340.0</td>\n",
       "      <td>75.0</td>\n",
       "      <td>14.0</td>\n",
       "      <td>ultra</td>\n",
       "      <td>Краснодар</td>\n",
       "      <td>1950.0</td>\n",
       "    </tr>\n",
       "    <tr>\n",
       "      <td>3</td>\n",
       "      <td>1000</td>\n",
       "      <td>408.0</td>\n",
       "      <td>81.0</td>\n",
       "      <td>14.0</td>\n",
       "      <td>ultra</td>\n",
       "      <td>Краснодар</td>\n",
       "      <td>1950.0</td>\n",
       "    </tr>\n",
       "    <tr>\n",
       "      <td>4</td>\n",
       "      <td>1000</td>\n",
       "      <td>466.0</td>\n",
       "      <td>57.0</td>\n",
       "      <td>15.0</td>\n",
       "      <td>ultra</td>\n",
       "      <td>Краснодар</td>\n",
       "      <td>1950.0</td>\n",
       "    </tr>\n",
       "    <tr>\n",
       "      <td>5</td>\n",
       "      <td>1000</td>\n",
       "      <td>350.0</td>\n",
       "      <td>73.0</td>\n",
       "      <td>15.0</td>\n",
       "      <td>ultra</td>\n",
       "      <td>Краснодар</td>\n",
       "      <td>1950.0</td>\n",
       "    </tr>\n",
       "    <tr>\n",
       "      <td>6</td>\n",
       "      <td>1000</td>\n",
       "      <td>338.0</td>\n",
       "      <td>58.0</td>\n",
       "      <td>15.0</td>\n",
       "      <td>ultra</td>\n",
       "      <td>Краснодар</td>\n",
       "      <td>1950.0</td>\n",
       "    </tr>\n",
       "    <tr>\n",
       "      <td>7</td>\n",
       "      <td>1000</td>\n",
       "      <td>333.0</td>\n",
       "      <td>70.0</td>\n",
       "      <td>10.0</td>\n",
       "      <td>ultra</td>\n",
       "      <td>Краснодар</td>\n",
       "      <td>1950.0</td>\n",
       "    </tr>\n",
       "    <tr>\n",
       "      <td>8</td>\n",
       "      <td>1001</td>\n",
       "      <td>430.0</td>\n",
       "      <td>0.0</td>\n",
       "      <td>18.0</td>\n",
       "      <td>smart</td>\n",
       "      <td>Москва</td>\n",
       "      <td>1150.0</td>\n",
       "    </tr>\n",
       "    <tr>\n",
       "      <td>9</td>\n",
       "      <td>1001</td>\n",
       "      <td>414.0</td>\n",
       "      <td>0.0</td>\n",
       "      <td>14.0</td>\n",
       "      <td>smart</td>\n",
       "      <td>Москва</td>\n",
       "      <td>550.0</td>\n",
       "    </tr>\n",
       "  </tbody>\n",
       "</table>\n",
       "</div>"
      ],
      "text/plain": [
       "   user_id  duration  messages  gb_used tariff       city  proceeds\n",
       "0     1000     159.0      22.0      3.0  ultra  Краснодар    1950.0\n",
       "1     1000     172.0      60.0     23.0  ultra  Краснодар    1950.0\n",
       "2     1000     340.0      75.0     14.0  ultra  Краснодар    1950.0\n",
       "3     1000     408.0      81.0     14.0  ultra  Краснодар    1950.0\n",
       "4     1000     466.0      57.0     15.0  ultra  Краснодар    1950.0\n",
       "5     1000     350.0      73.0     15.0  ultra  Краснодар    1950.0\n",
       "6     1000     338.0      58.0     15.0  ultra  Краснодар    1950.0\n",
       "7     1000     333.0      70.0     10.0  ultra  Краснодар    1950.0\n",
       "8     1001     430.0       0.0     18.0  smart     Москва    1150.0\n",
       "9     1001     414.0       0.0     14.0  smart     Москва     550.0"
      ]
     },
     "metadata": {},
     "output_type": "display_data"
    }
   ],
   "source": [
    "# пишу цикл для вычисления выручки с каждого пользователя помесячно\n",
    "\n",
    "stat_user_month['proceeds'] = None # добавляем в таблицу столбец \"Выручка\"\n",
    "i = 0\n",
    "for i in range(len(stat_user_month['user_id'])):\n",
    "    if stat_user_month['tariff'][i] == 'smart':   #для тарифа \"Смарт\"\n",
    "        \n",
    "        # условие-перерасхода нет\n",
    "        if (stat_user_month['duration'][i] <= 500 and stat_user_month['messages'][i] <= 50 and stat_user_month['gb_used'][i] <= 15):\n",
    "            stat_user_month['proceeds'][i] = 550\n",
    "        \n",
    "        # условие-перерасход минут\n",
    "        elif (stat_user_month['duration'][i] > 500 and stat_user_month['messages'][i] <= 50 and stat_user_month['gb_used'][i] <= 15):\n",
    "            stat_user_month['proceeds'][i] = 550 + (stat_user_month['duration'][i] - 500)*3\n",
    "            \n",
    "        # условие-перерасход смс    \n",
    "        elif (stat_user_month['duration'][i] <= 500 and stat_user_month['messages'][i] > 50 and stat_user_month['gb_used'][i] <= 15):\n",
    "            stat_user_month['proceeds'][i] = 550 + (stat_user_month['messages'][i] - 50)*3\n",
    "            \n",
    "        # условие-перерасход трафика    \n",
    "        elif (stat_user_month['duration'][i] <= 500 and stat_user_month['messages'][i] <= 50 and stat_user_month['gb_used'][i] > 15):\n",
    "            stat_user_month['proceeds'][i] = 550 + (stat_user_month['gb_used'][i] - 15)*200\n",
    "            \n",
    "        # условие-перерасход минут и смс    \n",
    "        elif (stat_user_month['duration'][i] > 500 and stat_user_month['messages'][i] > 50 and stat_user_month['gb_used'][i] <= 15):\n",
    "            stat_user_month['proceeds'][i] = 550 + (stat_user_month['duration'][i] - 500)*3 + (stat_user_month['messages'][i] - 50)*3\n",
    "            \n",
    "        # условие-перерасход минут и трафика    \n",
    "        elif (stat_user_month['duration'][i] > 500 and stat_user_month['messages'][i] <= 50 and stat_user_month['gb_used'][i] > 15):\n",
    "            stat_user_month['proceeds'][i] = 550 + (stat_user_month['duration'][i] - 500)*3 + (stat_user_month['gb_used'][i] - 15)*200\n",
    "            \n",
    "        # условие-перерасход смс и трафика    \n",
    "        elif (stat_user_month['duration'][i] <= 500 and stat_user_month['messages'][i] > 50 and stat_user_month['gb_used'][i] > 15):\n",
    "            stat_user_month['proceeds'][i] = 550 + (stat_user_month['messages'][i] - 50)*3 + (stat_user_month['gb_used'][i] - 15)*200\n",
    "        \n",
    "        # условие-перерасход минут, смс и трафика\n",
    "        elif (stat_user_month['duration'][i] > 500 and stat_user_month['messages'][i] > 50 and stat_user_month['gb_used'][i] > 15):\n",
    "            stat_user_month['proceeds'][i] = 550 + (stat_user_month['duration'][i] - 500)*3 + (stat_user_month['messages'][i] - 50)*3 + (stat_user_month['gb_used'][i] - 15)*200\n",
    "    \n",
    "    \n",
    "    elif stat_user_month['tariff'][i] == 'ultra':   #для тарифа \"Ультра\"\n",
    "        # условие-перерасхода нет\n",
    "        if (stat_user_month['duration'][i] <= 3000 and stat_user_month['messages'][i] <= 1000 and stat_user_month['gb_used'][i] <= 30):\n",
    "            stat_user_month['proceeds'][i] = 1950\n",
    "        \n",
    "        # условие-перерасход минут\n",
    "        elif (stat_user_month['duration'][i] > 3000 and stat_user_month['messages'][i] <= 1000 and stat_user_month['gb_used'][i] <= 30):\n",
    "            stat_user_month['proceeds'][i] = 1950 + (stat_user_month['duration'][i] - 3000)*1\n",
    "            \n",
    "        # условие-перерасход смс    \n",
    "        elif (stat_user_month['duration'][i] <= 3000 and stat_user_month['messages'][i] > 1000 and stat_user_month['gb_used'][i] <= 30):\n",
    "            stat_user_month['proceeds'][i] = 1950 + (stat_user_month['messages'][i] - 1000)*1\n",
    "            \n",
    "        # условие-перерасход трафика    \n",
    "        elif (stat_user_month['duration'][i] <= 3000 and stat_user_month['messages'][i] <= 1000 and stat_user_month['gb_used'][i] > 30):\n",
    "            stat_user_month['proceeds'][i] = 1950 + (stat_user_month['gb_used'][i] - 30)*150\n",
    "            \n",
    "        # условие-перерасход минут и смс    \n",
    "        elif (stat_user_month['duration'][i] > 3000 and stat_user_month['messages'][i] > 1000 and stat_user_month['gb_used'][i] <= 30):\n",
    "            stat_user_month['proceeds'][i] = 1950 + (stat_user_month['duration'][i] - 3000)*1 + (stat_user_month['messages'][i] - 1000)*1\n",
    "            \n",
    "        # условие-перерасход минут и трафика    \n",
    "        elif (stat_user_month['duration'][i] > 3000 and stat_user_month['messages'][i] <= 1000 and stat_user_month['gb_used'][i] > 30):\n",
    "            stat_user_month['proceeds'][i] = 1950 + (stat_user_month['duration'][i] - 3000)*1 + (stat_user_month['gb_used'][i] - 30)*150\n",
    "            \n",
    "        # условие-перерасход смс и трафика    \n",
    "        elif (stat_user_month['duration'][i] <= 3000 and stat_user_month['messages'][i] > 1000 and stat_user_month['gb_used'][i] > 30):\n",
    "            stat_user_month['proceeds'][i] = 1950 + (stat_user_month['messages'][i] - 1000)*1 + (stat_user_month['gb_used'][i] - 30)*150\n",
    "        \n",
    "        # условие-перерасход минут, смс и трафика\n",
    "        elif (stat_user_month['duration'][i] > 3000 and stat_user_month['messages'][i] > 1000 and stat_user_month['gb_used'][i] > 30):\n",
    "            stat_user_month['proceeds'][i] = 1950 + (stat_user_month['duration'][i] - 3000)*1 + (stat_user_month['messages'][i] - 1000)*1 + (stat_user_month['gb_used'][i] - 30)*150\n",
    "    \n",
    "    \n",
    "\n",
    "\n",
    "stat_user_month['proceeds'] = stat_user_month['proceeds'].astype(float)\n",
    "display(stat_user_month.head(10))        "
   ]
  },
  {
   "cell_type": "code",
   "execution_count": 17,
   "metadata": {},
   "outputs": [
    {
     "data": {
      "text/plain": [
       "count    3214.000000\n",
       "mean     1529.076229\n",
       "std       798.251091\n",
       "min       550.000000\n",
       "25%       750.000000\n",
       "50%      1653.500000\n",
       "75%      1950.000000\n",
       "max      6770.000000\n",
       "Name: proceeds, dtype: float64"
      ]
     },
     "execution_count": 17,
     "metadata": {},
     "output_type": "execute_result"
    }
   ],
   "source": [
    "stat_user_month['proceeds'].describe()"
   ]
  },
  {
   "cell_type": "markdown",
   "metadata": {},
   "source": [
    "**Вывод: На шаге \"подготовка данных\" привели в порядок даты в наших датафреймах, добавили в таблицы столбец по месяцам, объединили сводные таблицы методом 'merge()'. Посчитали и добавили в таблицу выручку по месяцам по каждому пользователю.**"
   ]
  },
  {
   "cell_type": "markdown",
   "metadata": {},
   "source": [
    "## Анализ данных"
   ]
  },
  {
   "cell_type": "code",
   "execution_count": 18,
   "metadata": {},
   "outputs": [
    {
     "data": {
      "text/html": [
       "<div>\n",
       "<style scoped>\n",
       "    .dataframe tbody tr th:only-of-type {\n",
       "        vertical-align: middle;\n",
       "    }\n",
       "\n",
       "    .dataframe tbody tr th {\n",
       "        vertical-align: top;\n",
       "    }\n",
       "\n",
       "    .dataframe thead th {\n",
       "        text-align: right;\n",
       "    }\n",
       "</style>\n",
       "<table border=\"1\" class=\"dataframe\">\n",
       "  <thead>\n",
       "    <tr style=\"text-align: right;\">\n",
       "      <th></th>\n",
       "      <th>user_id</th>\n",
       "      <th>duration</th>\n",
       "      <th>messages</th>\n",
       "      <th>gb_used</th>\n",
       "      <th>tariff</th>\n",
       "      <th>city</th>\n",
       "      <th>proceeds</th>\n",
       "    </tr>\n",
       "  </thead>\n",
       "  <tbody>\n",
       "    <tr>\n",
       "      <td>0</td>\n",
       "      <td>1001</td>\n",
       "      <td>430.0</td>\n",
       "      <td>0.0</td>\n",
       "      <td>18.0</td>\n",
       "      <td>smart</td>\n",
       "      <td>Москва</td>\n",
       "      <td>1150.0</td>\n",
       "    </tr>\n",
       "    <tr>\n",
       "      <td>1</td>\n",
       "      <td>1001</td>\n",
       "      <td>414.0</td>\n",
       "      <td>0.0</td>\n",
       "      <td>14.0</td>\n",
       "      <td>smart</td>\n",
       "      <td>Москва</td>\n",
       "      <td>550.0</td>\n",
       "    </tr>\n",
       "    <tr>\n",
       "      <td>2</td>\n",
       "      <td>1002</td>\n",
       "      <td>117.0</td>\n",
       "      <td>4.0</td>\n",
       "      <td>11.0</td>\n",
       "      <td>smart</td>\n",
       "      <td>Стерлитамак</td>\n",
       "      <td>550.0</td>\n",
       "    </tr>\n",
       "    <tr>\n",
       "      <td>3</td>\n",
       "      <td>1002</td>\n",
       "      <td>214.0</td>\n",
       "      <td>11.0</td>\n",
       "      <td>18.0</td>\n",
       "      <td>smart</td>\n",
       "      <td>Стерлитамак</td>\n",
       "      <td>1150.0</td>\n",
       "    </tr>\n",
       "    <tr>\n",
       "      <td>4</td>\n",
       "      <td>1002</td>\n",
       "      <td>289.0</td>\n",
       "      <td>13.0</td>\n",
       "      <td>20.0</td>\n",
       "      <td>smart</td>\n",
       "      <td>Стерлитамак</td>\n",
       "      <td>1550.0</td>\n",
       "    </tr>\n",
       "  </tbody>\n",
       "</table>\n",
       "</div>"
      ],
      "text/plain": [
       "   user_id  duration  messages  gb_used tariff         city  proceeds\n",
       "0     1001     430.0       0.0     18.0  smart       Москва    1150.0\n",
       "1     1001     414.0       0.0     14.0  smart       Москва     550.0\n",
       "2     1002     117.0       4.0     11.0  smart  Стерлитамак     550.0\n",
       "3     1002     214.0      11.0     18.0  smart  Стерлитамак    1150.0\n",
       "4     1002     289.0      13.0     20.0  smart  Стерлитамак    1550.0"
      ]
     },
     "metadata": {},
     "output_type": "display_data"
    },
    {
     "data": {
      "text/html": [
       "<div>\n",
       "<style scoped>\n",
       "    .dataframe tbody tr th:only-of-type {\n",
       "        vertical-align: middle;\n",
       "    }\n",
       "\n",
       "    .dataframe tbody tr th {\n",
       "        vertical-align: top;\n",
       "    }\n",
       "\n",
       "    .dataframe thead th {\n",
       "        text-align: right;\n",
       "    }\n",
       "</style>\n",
       "<table border=\"1\" class=\"dataframe\">\n",
       "  <thead>\n",
       "    <tr style=\"text-align: right;\">\n",
       "      <th></th>\n",
       "      <th>user_id</th>\n",
       "      <th>duration</th>\n",
       "      <th>messages</th>\n",
       "      <th>gb_used</th>\n",
       "      <th>tariff</th>\n",
       "      <th>city</th>\n",
       "      <th>proceeds</th>\n",
       "    </tr>\n",
       "  </thead>\n",
       "  <tbody>\n",
       "    <tr>\n",
       "      <td>0</td>\n",
       "      <td>1000</td>\n",
       "      <td>159.0</td>\n",
       "      <td>22.0</td>\n",
       "      <td>3.0</td>\n",
       "      <td>ultra</td>\n",
       "      <td>Краснодар</td>\n",
       "      <td>1950.0</td>\n",
       "    </tr>\n",
       "    <tr>\n",
       "      <td>1</td>\n",
       "      <td>1000</td>\n",
       "      <td>172.0</td>\n",
       "      <td>60.0</td>\n",
       "      <td>23.0</td>\n",
       "      <td>ultra</td>\n",
       "      <td>Краснодар</td>\n",
       "      <td>1950.0</td>\n",
       "    </tr>\n",
       "    <tr>\n",
       "      <td>2</td>\n",
       "      <td>1000</td>\n",
       "      <td>340.0</td>\n",
       "      <td>75.0</td>\n",
       "      <td>14.0</td>\n",
       "      <td>ultra</td>\n",
       "      <td>Краснодар</td>\n",
       "      <td>1950.0</td>\n",
       "    </tr>\n",
       "    <tr>\n",
       "      <td>3</td>\n",
       "      <td>1000</td>\n",
       "      <td>408.0</td>\n",
       "      <td>81.0</td>\n",
       "      <td>14.0</td>\n",
       "      <td>ultra</td>\n",
       "      <td>Краснодар</td>\n",
       "      <td>1950.0</td>\n",
       "    </tr>\n",
       "    <tr>\n",
       "      <td>4</td>\n",
       "      <td>1000</td>\n",
       "      <td>466.0</td>\n",
       "      <td>57.0</td>\n",
       "      <td>15.0</td>\n",
       "      <td>ultra</td>\n",
       "      <td>Краснодар</td>\n",
       "      <td>1950.0</td>\n",
       "    </tr>\n",
       "  </tbody>\n",
       "</table>\n",
       "</div>"
      ],
      "text/plain": [
       "   user_id  duration  messages  gb_used tariff       city  proceeds\n",
       "0     1000     159.0      22.0      3.0  ultra  Краснодар    1950.0\n",
       "1     1000     172.0      60.0     23.0  ultra  Краснодар    1950.0\n",
       "2     1000     340.0      75.0     14.0  ultra  Краснодар    1950.0\n",
       "3     1000     408.0      81.0     14.0  ultra  Краснодар    1950.0\n",
       "4     1000     466.0      57.0     15.0  ultra  Краснодар    1950.0"
      ]
     },
     "metadata": {},
     "output_type": "display_data"
    }
   ],
   "source": [
    "#разделим таблицы по тарифам методом \"query\"\n",
    "\n",
    "stat_user_month_smart = stat_user_month.query('tariff in \"smart\"').reset_index(drop=True)\n",
    "display(stat_user_month_smart.head())\n",
    "\n",
    "\n",
    "stat_user_month_ultra = stat_user_month.query('tariff in \"ultra\"').reset_index(drop=True)\n",
    "display(stat_user_month_ultra.head())\n"
   ]
  },
  {
   "cell_type": "code",
   "execution_count": 19,
   "metadata": {},
   "outputs": [],
   "source": [
    "# ПО ДАННЫМ ПОЛЬЗОВАТЕЛЕЙ С ТАРИФОМ \"SMART\"\n",
    "\n",
    "#создаем сводную таблицу средней продолжительности звонков по каждому пользователю\n",
    "\n",
    "#df_smart_duration_mean = stat_user_month_smart.pivot_table(index=['user_id','city'], values='duration', aggfunc='mean').round(0)\n",
    "\n",
    "#создаем сводную таблицу среднего количества СМС по каждому пользователю\n",
    "\n",
    "#df_smart_messages_mean = stat_user_month_smart.pivot_table(index=['user_id','city'], values='messages', aggfunc='mean').round(0)\n",
    "\n",
    "#создаем сводную таблицу среднего трафика по каждому пользователю\n",
    "#df_smart_gb_used_mean = stat_user_month_smart.pivot_table(index=['user_id','city'], values='gb_used', aggfunc='mean').round(0)\n",
    "\n",
    "#создаем сводную таблицу средней выручки по каждому пользователю\n",
    "#df_smart_proceeds_mean = stat_user_month_smart.pivot_table(index=['user_id','city'], values='proceeds', aggfunc='mean').round(0)\n",
    "\n",
    "\n",
    "#объединяем полученые таблицы методом \"merge\"\n",
    "\n",
    "#df_smart_mean = df_smart_duration_mean.merge(df_smart_messages_mean, on=['user_id','city'], how='outer')\n",
    "\n",
    "#df_smart_mean = df_smart_mean.merge(df_smart_gb_used_mean, on=['user_id','city'], how='outer')\n",
    "\n",
    "#df_smart_mean = df_smart_mean.merge(df_smart_proceeds_mean, on=['user_id','city'], how='outer')\n",
    "#display(df_smart_mean.head())"
   ]
  },
  {
   "cell_type": "code",
   "execution_count": 20,
   "metadata": {},
   "outputs": [],
   "source": [
    "# ПО ДАННЫМ ПОЛЬЗОВАТЕЛЕЙ С ТАРИФОМ \"ULTRA\"\n",
    "\n",
    "#создаем сводную таблицу средней продолжительности звонков по каждому пользователю\n",
    "\n",
    "#df_ultra_duration_mean = stat_user_month_ultra.pivot_table(index=['user_id','city'], values='duration', aggfunc='mean').round(0)\n",
    "\n",
    "#создаем сводную таблицу среднего количества СМС по каждому пользователю\n",
    "\n",
    "#df_ultra_messages_mean = stat_user_month_ultra.pivot_table(index=['user_id','city'], values='messages', aggfunc='mean').round(0)\n",
    "\n",
    "#создаем сводную таблицу среднего трафика по каждому пользователю\n",
    "#df_ultra_gb_used_mean = stat_user_month_ultra.pivot_table(index=['user_id','city'], values='gb_used', aggfunc='mean').round(0)\n",
    "\n",
    "#создаем сводную таблицу средней выручки по каждому пользователю\n",
    "#df_ultra_proceeds_mean = stat_user_month_ultra.pivot_table(index=['user_id','city'], values='proceeds', aggfunc='mean').round(0)\n",
    "\n",
    "\n",
    "#объединяем полученые таблицы методом \"merge\"\n",
    "\n",
    "#df_ultra_mean = df_ultra_duration_mean.merge(df_ultra_messages_mean, on=['user_id','city'], how='outer')\n",
    "\n",
    "#df_ultra_mean = df_ultra_mean.merge(df_ultra_gb_used_mean, on=['user_id','city'], how='outer')\n",
    "\n",
    "#df_ultra_mean = df_ultra_mean.merge(df_ultra_proceeds_mean, on=['user_id','city'], how='outer')\n",
    "#display(df_ultra_mean.head())"
   ]
  },
  {
   "cell_type": "code",
   "execution_count": 21,
   "metadata": {},
   "outputs": [
    {
     "name": "stdout",
     "output_type": "stream",
     "text": [
      "Среднее количество минут в тарифе \"Smart\" : 418.0\n",
      "ДИСПЕРСИЯ ПО ВЫБОРКЕ : 36219.0\n",
      "СТАНДАРТНОЕ ОТКЛОНЕНИЕ ПО ВЫБОРКЕ : 190.0\n"
     ]
    },
    {
     "data": {
      "image/png": "[encoded data removed]",
      "text/plain": [
       "<Figure size 432x288 with 1 Axes>"
      ]
     },
     "metadata": {
      "needs_background": "light"
     },
     "output_type": "display_data"
    }
   ],
   "source": [
    "\n",
    "# МИНУТЫ В ТАРИФЕ \"СМАРТ\"\n",
    "\n",
    "data_smart_duration = pd.Series(stat_user_month_smart['duration'].to_list())\n",
    "\n",
    "mean_smart_duration = data_smart_duration.mean().round(0) # СРЕДНЕЕ\n",
    "print('Среднее количество минут в тарифе \"Smart\" :',mean_smart_duration)\n",
    "variance_estimate = np.var(data_smart_duration, ddof=1).round(0) #  ДИСПЕРСИЯ ПО ВЫБОРКЕ\n",
    "print('ДИСПЕРСИЯ ПО ВЫБОРКЕ :',variance_estimate)\n",
    "standard_deviation = np.std(data_smart_duration, ddof=1).round(0) # СТАНДАРТНОЕ ОТКЛОНЕНИЕ ПО ВЫБОРКЕ\n",
    "print('СТАНДАРТНОЕ ОТКЛОНЕНИЕ ПО ВЫБОРКЕ :',standard_deviation)\n",
    "\n",
    "\n",
    "\n",
    "\n",
    "data_smart_duration.plot(y='duration', kind='hist', title='Среднее количество минут по месяцам', bins=15)\n",
    "plt.show()"
   ]
  },
  {
   "cell_type": "markdown",
   "metadata": {},
   "source": [
    "**данные распределены нормально**"
   ]
  },
  {
   "cell_type": "code",
   "execution_count": 22,
   "metadata": {},
   "outputs": [
    {
     "name": "stdout",
     "output_type": "stream",
     "text": [
      "Среднее количество SMS в тарифе \"Smart\" : 33.0\n",
      "ДИСПЕРСИЯ ПО ВЫБОРКЕ : 797.0\n",
      "СТАНДАРТНОЕ ОТКЛОНЕНИЕ ПО ВЫБОРКЕ : 28.0\n"
     ]
    },
    {
     "data": {
      "image/png": "[encoded data removed]",
      "text/plain": [
       "<Figure size 432x288 with 1 Axes>"
      ]
     },
     "metadata": {
      "needs_background": "light"
     },
     "output_type": "display_data"
    }
   ],
   "source": [
    "# СМС В ТАРИФЕ \"СМАРТ\"\n",
    "\n",
    "data_smart_messages = pd.Series(stat_user_month_smart['messages'].to_list())\n",
    "\n",
    "mean_smart_messages = data_smart_messages.mean().round(0) # СРЕДНЕЕ\n",
    "print('Среднее количество SMS в тарифе \"Smart\" :',mean_smart_messages)\n",
    "variance_estimate_s = np.var(data_smart_messages, ddof=1).round(0) #  ДИСПЕРСИЯ ПО ВЫБОРКЕ\n",
    "print('ДИСПЕРСИЯ ПО ВЫБОРКЕ :',variance_estimate_s)\n",
    "standard_deviation_s = np.std(data_smart_messages, ddof=1).round(0) # СТАНДАРТНОЕ ОТКЛОНЕНИЕ ПО ВЫБОРКЕ\n",
    "print('СТАНДАРТНОЕ ОТКЛОНЕНИЕ ПО ВЫБОРКЕ :',standard_deviation_s)\n",
    "\n",
    "\n",
    "\n",
    "data_smart_messages.plot(y='messages', kind='hist', title='Среднее количество SMS по месяцам', bins=10)\n",
    "plt.show()"
   ]
  },
  {
   "cell_type": "markdown",
   "metadata": {},
   "source": [
    "**Здесь наблюдается положительная скошенность, это говорит о том, что среднее больше, чем медиана**"
   ]
  },
  {
   "cell_type": "code",
   "execution_count": 23,
   "metadata": {},
   "outputs": [
    {
     "name": "stdout",
     "output_type": "stream",
     "text": [
      "Среднее количество гигабайт в тарифе \"Smart\" : 16.0\n",
      "ДИСПЕРСИЯ ПО ВЫБОРКЕ : 33.0\n",
      "СТАНДАРТНОЕ ОТКЛОНЕНИЕ ПО ВЫБОРКЕ : 6.0\n"
     ]
    },
    {
     "data": {
      "image/png": "[encoded data removed]",
      "text/plain": [
       "<Figure size 432x288 with 1 Axes>"
      ]
     },
     "metadata": {
      "needs_background": "light"
     },
     "output_type": "display_data"
    }
   ],
   "source": [
    "# ТРАФИК В ТАРИФЕ \"СМАРТ\"\n",
    "\n",
    "data_smart_gb_used = pd.Series(stat_user_month_smart['gb_used'].to_list())\n",
    "\n",
    "mean_smart_gb_used = data_smart_gb_used.mean().round(0) # СРЕДНЕЕ\n",
    "print('Среднее количество гигабайт в тарифе \"Smart\" :',mean_smart_gb_used)\n",
    "variance_estimate_t = np.var(data_smart_gb_used, ddof=1).round(0) #  ДИСПЕРСИЯ ПО ВЫБОРКЕ\n",
    "print('ДИСПЕРСИЯ ПО ВЫБОРКЕ :',variance_estimate_t)\n",
    "standard_deviation_t = np.std(data_smart_gb_used, ddof=1).round(0) # СТАНДАРТНОЕ ОТКЛОНЕНИЕ ПО ВЫБОРКЕ\n",
    "print('СТАНДАРТНОЕ ОТКЛОНЕНИЕ ПО ВЫБОРКЕ :',standard_deviation_t)\n",
    "\n",
    "\n",
    "\n",
    "data_smart_gb_used.plot(y='gb_used', kind='hist', title='Среднее количество гигабайт по месяцам', bins=10)\n",
    "plt.show()"
   ]
  },
  {
   "cell_type": "markdown",
   "metadata": {},
   "source": [
    "**данные распределены нормально**"
   ]
  },
  {
   "cell_type": "code",
   "execution_count": 24,
   "metadata": {},
   "outputs": [
    {
     "name": "stdout",
     "output_type": "stream",
     "text": [
      "Среднее количество минут в тарифе \"Ultra\" : 527.0\n",
      "ДИСПЕРСИЯ ПО ВЫБОРКЕ : 100874.0\n",
      "СТАНДАРТНОЕ ОТКЛОНЕНИЕ ПО ВЫБОРКЕ : 318.0\n"
     ]
    },
    {
     "data": {
      "image/png": "[encoded data removed]",
      "text/plain": [
       "<Figure size 432x288 with 1 Axes>"
      ]
     },
     "metadata": {
      "needs_background": "light"
     },
     "output_type": "display_data"
    }
   ],
   "source": [
    "# МИНУТЫ В ТАРИФЕ \"УЛЬТРА\"\n",
    "\n",
    "data_ultra_duration = pd.Series(stat_user_month_ultra['duration'].to_list())\n",
    "\n",
    "mean_ultra_duration = data_ultra_duration.mean().round(0) # СРЕДНЕЕ\n",
    "print('Среднее количество минут в тарифе \"Ultra\" :',mean_ultra_duration)\n",
    "u_variance_estimate = np.var(data_ultra_duration, ddof=1).round(0) #  ДИСПЕРСИЯ ПО ВЫБОРКЕ\n",
    "print('ДИСПЕРСИЯ ПО ВЫБОРКЕ :',u_variance_estimate)\n",
    "u_standard_deviation = np.std(data_ultra_duration, ddof=1).round(0) # СТАНДАРТНОЕ ОТКЛОНЕНИЕ ПО ВЫБОРКЕ\n",
    "print('СТАНДАРТНОЕ ОТКЛОНЕНИЕ ПО ВЫБОРКЕ :',u_standard_deviation)\n",
    "\n",
    "\n",
    "\n",
    "\n",
    "data_ultra_duration.plot(y='duration', kind='hist', title='Среднее количество минут по месяцам', bins=15)\n",
    "plt.show()"
   ]
  },
  {
   "cell_type": "markdown",
   "metadata": {},
   "source": [
    "**Здесь наблюдается небольшая положительная скошенность, это говорит о том, что среднее немного больше, чем медиана**"
   ]
  },
  {
   "cell_type": "code",
   "execution_count": 25,
   "metadata": {},
   "outputs": [
    {
     "name": "stdout",
     "output_type": "stream",
     "text": [
      "Среднее количество SMS в тарифе \"Ultra\" : 49.0\n",
      "ДИСПЕРСИЯ ПО ВЫБОРКЕ : 2285.0\n",
      "СТАНДАРТНОЕ ОТКЛОНЕНИЕ ПО ВЫБОРКЕ : 48.0\n"
     ]
    },
    {
     "data": {
      "image/png": "[encoded data removed]",
      "text/plain": [
       "<Figure size 432x288 with 1 Axes>"
      ]
     },
     "metadata": {
      "needs_background": "light"
     },
     "output_type": "display_data"
    }
   ],
   "source": [
    "# СМС В ТАРИФЕ \"УЛЬТРА\"\n",
    "\n",
    "data_ultra_messages = pd.Series(stat_user_month_ultra['messages'].to_list())\n",
    "\n",
    "mean_ultra_messages = data_ultra_messages.mean().round(0) # СРЕДНЕЕ\n",
    "print('Среднее количество SMS в тарифе \"Ultra\" :',mean_ultra_messages)\n",
    "u_variance_estimate_s = np.var(data_ultra_messages, ddof=1).round(0) #  ДИСПЕРСИЯ ПО ВЫБОРКЕ\n",
    "print('ДИСПЕРСИЯ ПО ВЫБОРКЕ :',u_variance_estimate_s)\n",
    "u_standard_deviation_s = np.std(data_ultra_messages, ddof=1).round(0) # СТАНДАРТНОЕ ОТКЛОНЕНИЕ ПО ВЫБОРКЕ\n",
    "print('СТАНДАРТНОЕ ОТКЛОНЕНИЕ ПО ВЫБОРКЕ :',u_standard_deviation_s)\n",
    "\n",
    "\n",
    "\n",
    "data_ultra_messages.plot(y='messages', kind='hist', title='Среднее количество SMS по месяцам', bins=10)\n",
    "plt.show()"
   ]
  },
  {
   "cell_type": "markdown",
   "metadata": {},
   "source": [
    "**Здесь наблюдается положительная скошенность, это говорит о том, что среднее больше, чем медиана**"
   ]
  },
  {
   "cell_type": "code",
   "execution_count": 26,
   "metadata": {},
   "outputs": [
    {
     "name": "stdout",
     "output_type": "stream",
     "text": [
      "Среднее количество гигабайт в тарифе \"Ultra\" : 19.0\n",
      "ДИСПЕРСИЯ ПО ВЫБОРКЕ : 97.0\n",
      "СТАНДАРТНОЕ ОТКЛОНЕНИЕ ПО ВЫБОРКЕ : 10.0\n"
     ]
    },
    {
     "data": {
      "image/png": "[encoded data removed]",
      "text/plain": [
       "<Figure size 432x288 with 1 Axes>"
      ]
     },
     "metadata": {
      "needs_background": "light"
     },
     "output_type": "display_data"
    }
   ],
   "source": [
    "# ТРАФИК В ТАРИФЕ \"УЛЬТРА\"\n",
    "\n",
    "data_ultra_gb_used = pd.Series(stat_user_month_ultra['gb_used'].to_list())\n",
    "\n",
    "mean_ultra_gb_used = data_ultra_gb_used.mean().round(0) # СРЕДНЕЕ\n",
    "print('Среднее количество гигабайт в тарифе \"Ultra\" :',mean_ultra_gb_used)\n",
    "u_variance_estimate_t = np.var(data_ultra_gb_used, ddof=1).round(0) #  ДИСПЕРСИЯ ПО ВЫБОРКЕ\n",
    "print('ДИСПЕРСИЯ ПО ВЫБОРКЕ :',u_variance_estimate_t)\n",
    "u_standard_deviation_t = np.std(data_ultra_gb_used, ddof=1).round(0) # СТАНДАРТНОЕ ОТКЛОНЕНИЕ ПО ВЫБОРКЕ\n",
    "print('СТАНДАРТНОЕ ОТКЛОНЕНИЕ ПО ВЫБОРКЕ :',u_standard_deviation_t)\n",
    "\n",
    "\n",
    "\n",
    "data_ultra_gb_used.plot(y='gb_used', kind='hist', title='Среднее количество гигабайт по месяцам', bins=10)\n",
    "plt.show()"
   ]
  },
  {
   "cell_type": "markdown",
   "metadata": {},
   "source": [
    "**данные распределены нормально**"
   ]
  },
  {
   "cell_type": "markdown",
   "metadata": {},
   "source": [
    "## Проверка гипотез"
   ]
  },
  {
   "cell_type": "markdown",
   "metadata": {},
   "source": [
    "***По условиям, поставленым в проекте, нужно проверить одну из гипотез: \"средняя выручка пользователей тарифов \"Ультра\" и \"Смарт\" различается\". Следовательно так и формулируем гипотезу Ho. Гипотезу H1 формулируем так: \"средняя выручка пользователей тарифов \"Ультра\" и \"Смарт\" не различается\" .***"
   ]
  },
  {
   "cell_type": "code",
   "execution_count": 27,
   "metadata": {},
   "outputs": [
    {
     "name": "stdout",
     "output_type": "stream",
     "text": [
      "p-значение: 1.0\n",
      "Не получилось отвергнуть нулевую гипотезу\n"
     ]
    }
   ],
   "source": [
    "\n",
    "# средняя выручка от пользователей с тарифом \"Смарт\"\n",
    "data_smart_proceeds = pd.Series(stat_user_month_smart['proceeds'].to_list())\n",
    "\n",
    "# средняя выручка от пользователей с тарифом \"Ультра\"\n",
    "data_ultra_proceeds = pd.Series(stat_user_month_ultra['proceeds'].to_list())\n",
    "\n",
    "\n",
    "\n",
    "alpha = 0.01#  критический уровень статистической значимости\n",
    "\n",
    "results = st.ttest_ind(data_smart_proceeds, data_ultra_proceeds, equal_var = False)\n",
    "\n",
    "print('p-значение:', results.pvalue)\n",
    "\n",
    "if results.pvalue < alpha:# сравниваем получившееся p-значение с заданным уровнем статистической значимости:\n",
    "    print(\"Отвергаем нулевую гипотезу\")\n",
    "else:\n",
    "    print(\"Не получилось отвергнуть нулевую гипотезу\")"
   ]
  },
  {
   "cell_type": "markdown",
   "metadata": {},
   "source": [
    "***Формулируем гипотезу Ho:\"средняя выручка пользователей тарифа \"Смарт\" для Москвы и других городов отличается\" . Гипотезу H1 формулируем так: \"средняя выручка пользователей тарифа  \"Смарт\" для Москвы и других городов не отличается\" .***"
   ]
  },
  {
   "cell_type": "code",
   "execution_count": 28,
   "metadata": {},
   "outputs": [
    {
     "name": "stdout",
     "output_type": "stream",
     "text": [
      "p-значение: 0.15468343176376667\n",
      "Не получилось отвергнуть нулевую гипотезу\n"
     ]
    }
   ],
   "source": [
    "#формируем таблицы для тарифа \"Смарт\" отдельно для Москвы, отдельно для других городов\n",
    "df_smart_mean_Moscow = stat_user_month_smart.query('city in \"Москва\"').reset_index(drop=True)\n",
    "df_smart_mean_not_Moscow = stat_user_month_smart.query('city != \"Москва\"').reset_index(drop=True)\n",
    "\n",
    "# средняя выручка от пользователей с тарифом \"Смарт\" для Москвы\n",
    "data_smart_proceeds_Moscow = pd.Series(df_smart_mean_Moscow['proceeds'].to_list())\n",
    "\n",
    "# средняя выручка от пользователей с тарифом \"Смарт\" для других городов\n",
    "data_smart_proceeds_not_Moscow = pd.Series(df_smart_mean_not_Moscow['proceeds'].to_list())\n",
    "\n",
    "\n",
    "alpha = 0.01#  критический уровень статистической значимости\n",
    "\n",
    "results = st.ttest_ind(data_smart_proceeds_Moscow, data_smart_proceeds_not_Moscow, equal_var = False)\n",
    "\n",
    "print('p-значение:', results.pvalue)\n",
    "\n",
    "if results.pvalue < alpha:# сравниваем получившееся p-значение с заданным уровнем статистической значимости:\n",
    "    print(\"Отвергаем нулевую гипотезу\")\n",
    "else:\n",
    "    print(\"Не получилось отвергнуть нулевую гипотезу\")"
   ]
  },
  {
   "cell_type": "markdown",
   "metadata": {},
   "source": [
    "***Формулируем гипотезу Ho:\"средняя выручка пользователей тарифа \"Ультра\" для Москвы и других городов отличается\" . Гипотезу H1 формулируем так: \"средняя выручка пользователей тарифа  \"Ультра\" для Москвы и других городов не отличается\" .***"
   ]
  },
  {
   "cell_type": "code",
   "execution_count": 29,
   "metadata": {},
   "outputs": [
    {
     "name": "stdout",
     "output_type": "stream",
     "text": [
      "p-значение: 0.8544997530689904\n",
      "Не получилось отвергнуть нулевую гипотезу\n"
     ]
    }
   ],
   "source": [
    "#формируем таблицы для тарифа \"Ультра\" отдельно для Москвы, отдельно для других городов\n",
    "df_ultra_mean_Moscow = stat_user_month_ultra.query('city in \"Москва\"').reset_index(drop=True)\n",
    "df_ultra_mean_not_Moscow = stat_user_month_ultra.query('city != \"Москва\"').reset_index(drop=True)\n",
    "\n",
    "# средняя выручка от пользователей с тарифом \"Ультра\" для Москвы\n",
    "data_ultra_proceeds_Moscow = pd.Series(df_ultra_mean_Moscow['proceeds'].to_list())\n",
    "\n",
    "# средняя выручка от пользователей с тарифом \"Ультра\" для других городов\n",
    "data_ultra_proceeds_not_Moscow = pd.Series(df_ultra_mean_not_Moscow['proceeds'].to_list())\n",
    "\n",
    "\n",
    "alpha = 0.01#  критический уровень статистической значимости\n",
    "\n",
    "results = st.ttest_ind(data_ultra_proceeds_Moscow, data_ultra_proceeds_not_Moscow, equal_var = False)\n",
    "\n",
    "print('p-значение:', results.pvalue)\n",
    "\n",
    "if results.pvalue < alpha:# сравниваем получившееся p-значение с заданным уровнем статистической значимости:\n",
    "    print(\"Отвергаем нулевую гипотезу\")\n",
    "else:\n",
    "    print(\"Не получилось отвергнуть нулевую гипотезу\")"
   ]
  },
  {
   "cell_type": "markdown",
   "metadata": {},
   "source": [
    "**Использовал специальный метод для проверки гипотезы о равенстве среднего двух генеральных совокупностей по взятым из них выборкам: scipy.stats.ttest_ind (array1, array2,equal_var) .**"
   ]
  },
  {
   "cell_type": "markdown",
   "metadata": {},
   "source": [
    "## Общий вывод"
   ]
  },
  {
   "cell_type": "markdown",
   "metadata": {},
   "source": [
    "**Согласно ТЗ в данном проекте были подготовлены данные для дальнейшего исследования тарифов сотового оператора. По каждому пользователю в соответствии с используемым им тарифом были посчитаны помесячно количество минут, смс, интернет-трафика, а также выручка, которую получает оператор с пользователя.**\n",
    "\n",
    "**Для тарифа \"Смарт\":**\n",
    "\n",
    "\n",
    "**среднее количество минут проговариваемых клиентами: 418, дисперсия по выборке: 36219, стандартное отклонение по выборке: 190.**\n",
    "\n",
    "**среднее количество СМС отправляемых клиентами: 32, дисперсия по выборке: 797, стандартное отклонение по выборке: 28.**\n",
    "\n",
    "**среднее количество интернет-трафика используемого клиентами(в гигабайтах): 16, дисперсия по выборке: 33, стандартное отклонение по выборке: 6.**\n",
    "\n",
    "**Для тарифа \"Ультра\":**\n",
    "\n",
    "**среднее количество минут проговариваемых клиентами: 527, дисперсия по выборке: 100874, стандартное отклонение по выборке: 318.**\n",
    "\n",
    "**среднее количество СМС отправляемых клиентами: 49, дисперсия по выборке: 2285, стандартное отклонение по выборке: 46.**\n",
    "\n",
    "**среднее количество интернет-трафика используемого клиентами(в гигабайтах): 19, дисперсия по выборке: 97, стандартное отклонение по выборке: 10.**\n",
    "\n",
    "\n",
    "**Мой вывод, что пользователи тарифа \"Ультра\", очень редко используют весь пакет услуг предоставляемый оператором в рамках тарифного плана, но стоит этот тариф почти в 4 раза дороже, чем \"Смарт\". В \"Смарте\" наоборот пользователям нехватает пакета, но даже с учетом перерасхода, услуги связи обходятся им дешевле чем \"Ультра\". Поэтому для пользователей несомненно лучше \"Смарт\", а для сотового оператора безусловно \"Ультра\".**\n",
    "\n",
    "**Проверив данные в ТЗ гипотезы, вывод:**\n",
    "\n",
    "**Выручка для тарифов \"Ультра\" и \"Смарт\" отличается.**\n",
    "\n",
    "**Выручка для Москвы и других городов отличается.**"
   ]
  },
  {
   "cell_type": "code",
   "execution_count": null,
   "metadata": {},
   "outputs": [],
   "source": []
  }
 ],
 "metadata": {
  "ExecuteTimeLog": [
   {
    "duration": 3214,
    "start_time": "2022-01-04T06:56:31.523Z"
   },
   {
    "duration": 449,
    "start_time": "2022-01-04T06:57:44.459Z"
   },
   {
    "duration": 469,
    "start_time": "2022-01-04T06:59:52.726Z"
   },
   {
    "duration": 696,
    "start_time": "2022-01-04T07:05:48.840Z"
   },
   {
    "duration": 534,
    "start_time": "2022-01-04T07:37:59.382Z"
   },
   {
    "duration": 40,
    "start_time": "2022-01-04T07:40:34.045Z"
   },
   {
    "duration": 18,
    "start_time": "2022-01-04T07:41:05.616Z"
   },
   {
    "duration": 844,
    "start_time": "2022-01-04T07:53:04.511Z"
   },
   {
    "duration": 561,
    "start_time": "2022-01-04T07:53:34.734Z"
   },
   {
    "duration": 604,
    "start_time": "2022-01-04T08:09:14.774Z"
   },
   {
    "duration": 602,
    "start_time": "2022-01-04T08:21:21.334Z"
   },
   {
    "duration": 73,
    "start_time": "2022-01-04T08:22:09.532Z"
   },
   {
    "duration": 547,
    "start_time": "2022-01-04T08:34:37.789Z"
   },
   {
    "duration": 426,
    "start_time": "2022-01-04T08:48:11.104Z"
   },
   {
    "duration": 438,
    "start_time": "2022-01-04T08:52:36.136Z"
   },
   {
    "duration": 1316,
    "start_time": "2022-01-04T08:55:51.400Z"
   },
   {
    "duration": 362,
    "start_time": "2022-01-04T08:59:16.630Z"
   },
   {
    "duration": 135,
    "start_time": "2022-01-04T09:00:03.981Z"
   },
   {
    "duration": 621,
    "start_time": "2022-01-04T09:12:35.581Z"
   },
   {
    "duration": 559,
    "start_time": "2022-01-04T09:14:33.961Z"
   },
   {
    "duration": 169,
    "start_time": "2022-01-04T09:14:42.632Z"
   },
   {
    "duration": 46,
    "start_time": "2022-01-04T09:14:53.867Z"
   },
   {
    "duration": 552,
    "start_time": "2022-01-04T09:21:45.038Z"
   },
   {
    "duration": 40,
    "start_time": "2022-01-04T09:23:24.472Z"
   },
   {
    "duration": 1901,
    "start_time": "2022-01-04T09:26:44.658Z"
   },
   {
    "duration": 1351,
    "start_time": "2022-01-04T09:30:54.349Z"
   },
   {
    "duration": 182,
    "start_time": "2022-01-04T09:30:55.703Z"
   },
   {
    "duration": 50,
    "start_time": "2022-01-04T09:30:55.888Z"
   },
   {
    "duration": 116,
    "start_time": "2022-01-04T09:33:26.825Z"
   },
   {
    "duration": 31,
    "start_time": "2022-01-04T09:34:30.918Z"
   },
   {
    "duration": 537,
    "start_time": "2022-01-04T09:34:52.434Z"
   },
   {
    "duration": 176,
    "start_time": "2022-01-04T09:34:58.437Z"
   },
   {
    "duration": 31,
    "start_time": "2022-01-04T09:35:03.364Z"
   },
   {
    "duration": 19,
    "start_time": "2022-01-04T09:39:02.725Z"
   },
   {
    "duration": 510,
    "start_time": "2022-01-04T09:39:42.153Z"
   },
   {
    "duration": 161,
    "start_time": "2022-01-04T09:39:44.875Z"
   },
   {
    "duration": 36,
    "start_time": "2022-01-04T09:39:50.429Z"
   },
   {
    "duration": 19,
    "start_time": "2022-01-04T09:39:59.537Z"
   },
   {
    "duration": 44,
    "start_time": "2022-01-04T09:42:34.686Z"
   },
   {
    "duration": 511,
    "start_time": "2022-01-04T09:43:09.700Z"
   },
   {
    "duration": 153,
    "start_time": "2022-01-04T09:43:13.683Z"
   },
   {
    "duration": 30,
    "start_time": "2022-01-04T09:43:16.863Z"
   },
   {
    "duration": 47,
    "start_time": "2022-01-04T09:43:25.726Z"
   },
   {
    "duration": 37,
    "start_time": "2022-01-04T09:45:40.151Z"
   },
   {
    "duration": 38,
    "start_time": "2022-01-04T09:46:34.227Z"
   },
   {
    "duration": 96,
    "start_time": "2022-01-04T09:54:19.577Z"
   },
   {
    "duration": 28,
    "start_time": "2022-01-04T09:57:55.039Z"
   },
   {
    "duration": 490,
    "start_time": "2022-01-04T10:05:54.548Z"
   },
   {
    "duration": 35,
    "start_time": "2022-01-04T10:06:06.693Z"
   },
   {
    "duration": 45,
    "start_time": "2022-01-04T10:09:17.069Z"
   },
   {
    "duration": 43,
    "start_time": "2022-01-04T10:11:02.049Z"
   },
   {
    "duration": 17,
    "start_time": "2022-01-04T10:14:33.750Z"
   },
   {
    "duration": 37,
    "start_time": "2022-01-04T10:23:03.660Z"
   },
   {
    "duration": 42,
    "start_time": "2022-01-04T10:27:51.551Z"
   },
   {
    "duration": 40,
    "start_time": "2022-01-04T10:33:32.685Z"
   },
   {
    "duration": 664,
    "start_time": "2022-01-04T10:34:54.179Z"
   },
   {
    "duration": 159,
    "start_time": "2022-01-04T10:35:03.408Z"
   },
   {
    "duration": 60,
    "start_time": "2022-01-04T10:35:06.669Z"
   },
   {
    "duration": 50,
    "start_time": "2022-01-04T10:35:31.655Z"
   },
   {
    "duration": 18,
    "start_time": "2022-01-04T10:35:38.975Z"
   },
   {
    "duration": 45,
    "start_time": "2022-01-04T10:35:43.059Z"
   },
   {
    "duration": 43,
    "start_time": "2022-01-04T10:35:47.068Z"
   },
   {
    "duration": 44,
    "start_time": "2022-01-04T10:35:59.763Z"
   },
   {
    "duration": 515,
    "start_time": "2022-01-04T10:40:32.881Z"
   },
   {
    "duration": 156,
    "start_time": "2022-01-04T10:40:34.397Z"
   },
   {
    "duration": 63,
    "start_time": "2022-01-04T10:40:35.980Z"
   },
   {
    "duration": 52,
    "start_time": "2022-01-04T10:40:40.918Z"
   },
   {
    "duration": 17,
    "start_time": "2022-01-04T10:40:43.726Z"
   },
   {
    "duration": 44,
    "start_time": "2022-01-04T10:40:47.399Z"
   },
   {
    "duration": 40,
    "start_time": "2022-01-04T10:40:49.204Z"
   },
   {
    "duration": 8334,
    "start_time": "2022-01-04T10:41:01.457Z"
   },
   {
    "duration": 45,
    "start_time": "2022-01-04T10:42:33.039Z"
   },
   {
    "duration": 42,
    "start_time": "2022-01-04T10:43:50.554Z"
   },
   {
    "duration": 16,
    "start_time": "2022-01-04T10:54:45.519Z"
   },
   {
    "duration": 8461,
    "start_time": "2022-01-04T10:57:42.629Z"
   },
   {
    "duration": 8930,
    "start_time": "2022-01-04T11:00:04.447Z"
   },
   {
    "duration": 541,
    "start_time": "2022-01-04T11:00:51.541Z"
   },
   {
    "duration": 174,
    "start_time": "2022-01-04T11:00:53.787Z"
   },
   {
    "duration": 61,
    "start_time": "2022-01-04T11:00:56.033Z"
   },
   {
    "duration": 51,
    "start_time": "2022-01-04T11:01:00.537Z"
   },
   {
    "duration": 18,
    "start_time": "2022-01-04T11:01:04.207Z"
   },
   {
    "duration": 18,
    "start_time": "2022-01-04T11:01:07.641Z"
   },
   {
    "duration": 8146,
    "start_time": "2022-01-04T11:03:43.308Z"
   },
   {
    "duration": 553,
    "start_time": "2022-01-04T11:04:07.517Z"
   },
   {
    "duration": 160,
    "start_time": "2022-01-04T11:04:10.770Z"
   },
   {
    "duration": 62,
    "start_time": "2022-01-04T11:04:12.007Z"
   },
   {
    "duration": 51,
    "start_time": "2022-01-04T11:04:14.897Z"
   },
   {
    "duration": 18,
    "start_time": "2022-01-04T11:04:16.418Z"
   },
   {
    "duration": 17,
    "start_time": "2022-01-04T11:04:18.129Z"
   },
   {
    "duration": 20,
    "start_time": "2022-01-04T11:05:40.287Z"
   },
   {
    "duration": 46,
    "start_time": "2022-01-04T11:59:53.007Z"
   },
   {
    "duration": 22,
    "start_time": "2022-01-04T12:36:15.678Z"
   },
   {
    "duration": 20,
    "start_time": "2022-01-04T12:37:38.069Z"
   },
   {
    "duration": 107,
    "start_time": "2022-01-04T12:41:54.353Z"
   },
   {
    "duration": 29,
    "start_time": "2022-01-04T12:55:12.894Z"
   },
   {
    "duration": 33,
    "start_time": "2022-01-04T13:30:09.097Z"
   },
   {
    "duration": 27,
    "start_time": "2022-01-04T13:32:49.628Z"
   },
   {
    "duration": 535,
    "start_time": "2022-01-04T13:33:49.506Z"
   },
   {
    "duration": 160,
    "start_time": "2022-01-04T13:33:52.211Z"
   },
   {
    "duration": 61,
    "start_time": "2022-01-04T13:33:53.294Z"
   },
   {
    "duration": 50,
    "start_time": "2022-01-04T13:33:56.778Z"
   },
   {
    "duration": 17,
    "start_time": "2022-01-04T13:33:58.790Z"
   },
   {
    "duration": 21,
    "start_time": "2022-01-04T13:34:00.682Z"
   },
   {
    "duration": 51,
    "start_time": "2022-01-04T13:34:03.607Z"
   },
   {
    "duration": 41,
    "start_time": "2022-01-04T13:34:09.273Z"
   },
   {
    "duration": 43,
    "start_time": "2022-01-04T13:34:12.172Z"
   },
   {
    "duration": 31,
    "start_time": "2022-01-04T13:34:13.372Z"
   },
   {
    "duration": 24,
    "start_time": "2022-01-04T13:34:14.523Z"
   },
   {
    "duration": 343,
    "start_time": "2022-01-04T13:48:40.918Z"
   },
   {
    "duration": 377,
    "start_time": "2022-01-04T13:49:13.901Z"
   },
   {
    "duration": 377,
    "start_time": "2022-01-04T13:52:20.003Z"
   },
   {
    "duration": 11,
    "start_time": "2022-01-04T13:54:56.377Z"
   },
   {
    "duration": 23,
    "start_time": "2022-01-04T13:56:13.081Z"
   },
   {
    "duration": 25,
    "start_time": "2022-01-04T13:57:30.638Z"
   },
   {
    "duration": 24,
    "start_time": "2022-01-04T14:10:38.482Z"
   },
   {
    "duration": 452,
    "start_time": "2022-01-04T14:19:00.455Z"
   },
   {
    "duration": 375,
    "start_time": "2022-01-04T14:19:43.601Z"
   },
   {
    "duration": 572,
    "start_time": "2022-01-04T14:19:51.035Z"
   },
   {
    "duration": 175,
    "start_time": "2022-01-04T14:19:52.621Z"
   },
   {
    "duration": 74,
    "start_time": "2022-01-04T14:19:53.340Z"
   },
   {
    "duration": 52,
    "start_time": "2022-01-04T14:19:54.813Z"
   },
   {
    "duration": 21,
    "start_time": "2022-01-04T14:19:55.676Z"
   },
   {
    "duration": 30,
    "start_time": "2022-01-04T14:19:57.493Z"
   },
   {
    "duration": 24,
    "start_time": "2022-01-04T14:19:58.511Z"
   },
   {
    "duration": 54,
    "start_time": "2022-01-04T14:20:00.557Z"
   },
   {
    "duration": 41,
    "start_time": "2022-01-04T14:20:02.709Z"
   },
   {
    "duration": 42,
    "start_time": "2022-01-04T14:20:04.501Z"
   },
   {
    "duration": 32,
    "start_time": "2022-01-04T14:20:07.173Z"
   },
   {
    "duration": 24,
    "start_time": "2022-01-04T14:20:13.312Z"
   },
   {
    "duration": 25,
    "start_time": "2022-01-04T14:20:44.542Z"
   },
   {
    "duration": 31,
    "start_time": "2022-01-04T14:21:37.280Z"
   },
   {
    "duration": 1307,
    "start_time": "2022-01-04T14:21:51.021Z"
   },
   {
    "duration": 193,
    "start_time": "2022-01-04T14:21:52.331Z"
   },
   {
    "duration": 82,
    "start_time": "2022-01-04T14:21:52.527Z"
   },
   {
    "duration": 69,
    "start_time": "2022-01-04T14:21:52.612Z"
   },
   {
    "duration": 22,
    "start_time": "2022-01-04T14:21:52.684Z"
   },
   {
    "duration": 20,
    "start_time": "2022-01-04T14:21:52.709Z"
   },
   {
    "duration": 50,
    "start_time": "2022-01-04T14:21:52.731Z"
   },
   {
    "duration": 52,
    "start_time": "2022-01-04T14:21:52.783Z"
   },
   {
    "duration": 67,
    "start_time": "2022-01-04T14:21:52.838Z"
   },
   {
    "duration": 73,
    "start_time": "2022-01-04T14:21:52.907Z"
   },
   {
    "duration": 32,
    "start_time": "2022-01-04T14:21:52.982Z"
   },
   {
    "duration": 58,
    "start_time": "2022-01-04T14:21:53.016Z"
   },
   {
    "duration": 23,
    "start_time": "2022-01-04T14:21:53.076Z"
   },
   {
    "duration": 692,
    "start_time": "2022-01-04T14:33:07.731Z"
   },
   {
    "duration": 1380,
    "start_time": "2022-01-04T14:33:23.036Z"
   },
   {
    "duration": 201,
    "start_time": "2022-01-04T14:33:24.419Z"
   },
   {
    "duration": 76,
    "start_time": "2022-01-04T14:33:24.623Z"
   },
   {
    "duration": 67,
    "start_time": "2022-01-04T14:33:24.702Z"
   },
   {
    "duration": 34,
    "start_time": "2022-01-04T14:33:24.771Z"
   },
   {
    "duration": 20,
    "start_time": "2022-01-04T14:33:24.808Z"
   },
   {
    "duration": 46,
    "start_time": "2022-01-04T14:33:24.831Z"
   },
   {
    "duration": 57,
    "start_time": "2022-01-04T14:33:24.880Z"
   },
   {
    "duration": 69,
    "start_time": "2022-01-04T14:33:24.941Z"
   },
   {
    "duration": 74,
    "start_time": "2022-01-04T14:33:25.012Z"
   },
   {
    "duration": 29,
    "start_time": "2022-01-04T14:33:25.089Z"
   },
   {
    "duration": 55,
    "start_time": "2022-01-04T14:33:25.120Z"
   },
   {
    "duration": 24,
    "start_time": "2022-01-04T14:33:25.178Z"
   },
   {
    "duration": 1517,
    "start_time": "2022-01-04T14:36:03.600Z"
   },
   {
    "duration": 205,
    "start_time": "2022-01-04T14:36:05.119Z"
   },
   {
    "duration": 98,
    "start_time": "2022-01-04T14:36:05.327Z"
   },
   {
    "duration": 66,
    "start_time": "2022-01-04T14:36:05.428Z"
   },
   {
    "duration": 25,
    "start_time": "2022-01-04T14:36:05.497Z"
   },
   {
    "duration": 38,
    "start_time": "2022-01-04T14:36:05.525Z"
   },
   {
    "duration": 42,
    "start_time": "2022-01-04T14:36:05.567Z"
   },
   {
    "duration": 80,
    "start_time": "2022-01-04T14:36:05.612Z"
   },
   {
    "duration": 45,
    "start_time": "2022-01-04T14:36:05.696Z"
   },
   {
    "duration": 59,
    "start_time": "2022-01-04T14:36:05.760Z"
   },
   {
    "duration": 59,
    "start_time": "2022-01-04T14:36:05.821Z"
   },
   {
    "duration": 30,
    "start_time": "2022-01-04T14:36:05.883Z"
   },
   {
    "duration": 44,
    "start_time": "2022-01-04T14:36:05.915Z"
   },
   {
    "duration": 1339,
    "start_time": "2022-01-04T14:41:36.229Z"
   },
   {
    "duration": 213,
    "start_time": "2022-01-04T14:41:37.572Z"
   },
   {
    "duration": 85,
    "start_time": "2022-01-04T14:41:37.788Z"
   },
   {
    "duration": 85,
    "start_time": "2022-01-04T14:41:37.876Z"
   },
   {
    "duration": 19,
    "start_time": "2022-01-04T14:41:37.963Z"
   },
   {
    "duration": 22,
    "start_time": "2022-01-04T14:41:37.985Z"
   },
   {
    "duration": 75,
    "start_time": "2022-01-04T14:41:38.010Z"
   },
   {
    "duration": 64,
    "start_time": "2022-01-04T14:41:38.087Z"
   },
   {
    "duration": 54,
    "start_time": "2022-01-04T14:41:38.162Z"
   },
   {
    "duration": 80,
    "start_time": "2022-01-04T14:41:38.218Z"
   },
   {
    "duration": 28,
    "start_time": "2022-01-04T14:41:38.301Z"
   },
   {
    "duration": 59,
    "start_time": "2022-01-04T14:41:38.332Z"
   },
   {
    "duration": 22,
    "start_time": "2022-01-04T14:41:38.395Z"
   },
   {
    "duration": 578,
    "start_time": "2022-01-04T14:47:02.526Z"
   },
   {
    "duration": 199,
    "start_time": "2022-01-04T14:47:09.100Z"
   },
   {
    "duration": 67,
    "start_time": "2022-01-04T14:47:10.543Z"
   },
   {
    "duration": 59,
    "start_time": "2022-01-04T14:47:15.836Z"
   },
   {
    "duration": 23,
    "start_time": "2022-01-04T14:47:17.464Z"
   },
   {
    "duration": 26,
    "start_time": "2022-01-04T14:47:22.449Z"
   },
   {
    "duration": 25,
    "start_time": "2022-01-04T14:47:28.942Z"
   },
   {
    "duration": 53,
    "start_time": "2022-01-04T14:47:34.550Z"
   },
   {
    "duration": 50,
    "start_time": "2022-01-04T14:47:37.356Z"
   },
   {
    "duration": 41,
    "start_time": "2022-01-04T14:47:43.111Z"
   },
   {
    "duration": 72,
    "start_time": "2022-01-04T14:47:45.430Z"
   },
   {
    "duration": 9622,
    "start_time": "2022-01-04T14:50:14.853Z"
   },
   {
    "duration": 512,
    "start_time": "2022-01-04T14:52:08.074Z"
   },
   {
    "duration": 167,
    "start_time": "2022-01-04T14:52:10.367Z"
   },
   {
    "duration": 61,
    "start_time": "2022-01-04T14:52:11.346Z"
   },
   {
    "duration": 51,
    "start_time": "2022-01-04T14:52:14.222Z"
   },
   {
    "duration": 18,
    "start_time": "2022-01-04T14:52:15.985Z"
   },
   {
    "duration": 21,
    "start_time": "2022-01-04T14:52:17.426Z"
   },
   {
    "duration": 25,
    "start_time": "2022-01-04T14:52:18.853Z"
   },
   {
    "duration": 69,
    "start_time": "2022-01-04T14:52:21.112Z"
   },
   {
    "duration": 40,
    "start_time": "2022-01-04T14:52:23.599Z"
   },
   {
    "duration": 42,
    "start_time": "2022-01-04T14:52:28.016Z"
   },
   {
    "duration": 49,
    "start_time": "2022-01-04T14:52:41.774Z"
   },
   {
    "duration": 54,
    "start_time": "2022-01-04T14:53:41.361Z"
   },
   {
    "duration": 1274,
    "start_time": "2022-01-04T14:55:11.845Z"
   },
   {
    "duration": 183,
    "start_time": "2022-01-04T14:55:13.122Z"
   },
   {
    "duration": 70,
    "start_time": "2022-01-04T14:55:13.308Z"
   },
   {
    "duration": 50,
    "start_time": "2022-01-04T14:55:13.381Z"
   },
   {
    "duration": 37,
    "start_time": "2022-01-04T14:55:13.433Z"
   },
   {
    "duration": 20,
    "start_time": "2022-01-04T14:55:13.472Z"
   },
   {
    "duration": 27,
    "start_time": "2022-01-04T14:55:13.494Z"
   },
   {
    "duration": 85,
    "start_time": "2022-01-04T14:55:13.525Z"
   },
   {
    "duration": 71,
    "start_time": "2022-01-04T14:55:13.613Z"
   },
   {
    "duration": 49,
    "start_time": "2022-01-04T14:55:13.688Z"
   },
   {
    "duration": 65,
    "start_time": "2022-01-04T14:55:13.739Z"
   },
   {
    "duration": 93,
    "start_time": "2022-01-04T14:55:13.807Z"
   },
   {
    "duration": 23,
    "start_time": "2022-01-04T14:55:13.902Z"
   },
   {
    "duration": 540,
    "start_time": "2022-01-04T15:19:53.428Z"
   },
   {
    "duration": 239,
    "start_time": "2022-01-04T15:19:55.492Z"
   },
   {
    "duration": 61,
    "start_time": "2022-01-04T15:19:56.729Z"
   },
   {
    "duration": 51,
    "start_time": "2022-01-04T15:19:59.727Z"
   },
   {
    "duration": 17,
    "start_time": "2022-01-04T15:20:01.179Z"
   },
   {
    "duration": 20,
    "start_time": "2022-01-04T15:20:02.503Z"
   },
   {
    "duration": 33,
    "start_time": "2022-01-04T15:20:05.007Z"
   },
   {
    "duration": 13,
    "start_time": "2022-01-04T15:20:09.754Z"
   },
   {
    "duration": 432,
    "start_time": "2022-01-04T15:23:49.382Z"
   },
   {
    "duration": 608,
    "start_time": "2022-01-04T15:23:55.842Z"
   },
   {
    "duration": 167,
    "start_time": "2022-01-04T15:23:58.487Z"
   },
   {
    "duration": 59,
    "start_time": "2022-01-04T15:23:59.447Z"
   },
   {
    "duration": 50,
    "start_time": "2022-01-04T15:24:01.512Z"
   },
   {
    "duration": 16,
    "start_time": "2022-01-04T15:24:02.492Z"
   },
   {
    "duration": 21,
    "start_time": "2022-01-04T15:24:05.524Z"
   },
   {
    "duration": 25,
    "start_time": "2022-01-04T15:24:09.318Z"
   },
   {
    "duration": 13,
    "start_time": "2022-01-04T15:24:13.144Z"
   },
   {
    "duration": 1378,
    "start_time": "2022-01-04T15:29:39.775Z"
   },
   {
    "duration": 221,
    "start_time": "2022-01-04T15:29:41.156Z"
   },
   {
    "duration": 78,
    "start_time": "2022-01-04T15:29:41.381Z"
   },
   {
    "duration": 56,
    "start_time": "2022-01-04T15:29:41.463Z"
   },
   {
    "duration": 46,
    "start_time": "2022-01-04T15:29:41.522Z"
   },
   {
    "duration": 22,
    "start_time": "2022-01-04T15:29:41.572Z"
   },
   {
    "duration": 25,
    "start_time": "2022-01-04T15:29:41.596Z"
   },
   {
    "duration": 44,
    "start_time": "2022-01-04T15:29:41.624Z"
   },
   {
    "duration": 62,
    "start_time": "2022-01-04T15:29:41.673Z"
   },
   {
    "duration": 64,
    "start_time": "2022-01-04T15:29:41.738Z"
   },
   {
    "duration": 72,
    "start_time": "2022-01-04T15:29:41.805Z"
   },
   {
    "duration": 46,
    "start_time": "2022-01-04T15:29:41.880Z"
   },
   {
    "duration": 90,
    "start_time": "2022-01-04T15:29:41.928Z"
   },
   {
    "duration": 8824,
    "start_time": "2022-01-04T15:29:42.020Z"
   },
   {
    "duration": 340,
    "start_time": "2022-01-04T15:31:18.187Z"
   },
   {
    "duration": 337,
    "start_time": "2022-01-04T15:32:15.563Z"
   },
   {
    "duration": 21,
    "start_time": "2022-01-04T15:33:09.958Z"
   },
   {
    "duration": 1348,
    "start_time": "2022-01-04T15:33:59.291Z"
   },
   {
    "duration": 219,
    "start_time": "2022-01-04T15:34:00.642Z"
   },
   {
    "duration": 64,
    "start_time": "2022-01-04T15:34:00.864Z"
   },
   {
    "duration": 70,
    "start_time": "2022-01-04T15:34:00.931Z"
   },
   {
    "duration": 25,
    "start_time": "2022-01-04T15:34:01.003Z"
   },
   {
    "duration": 42,
    "start_time": "2022-01-04T15:34:01.030Z"
   },
   {
    "duration": 27,
    "start_time": "2022-01-04T15:34:01.074Z"
   },
   {
    "duration": 18,
    "start_time": "2022-01-04T15:34:01.104Z"
   },
   {
    "duration": 58,
    "start_time": "2022-01-04T15:34:01.160Z"
   },
   {
    "duration": 74,
    "start_time": "2022-01-04T15:34:01.221Z"
   },
   {
    "duration": 76,
    "start_time": "2022-01-04T15:34:01.297Z"
   },
   {
    "duration": 49,
    "start_time": "2022-01-04T15:34:01.375Z"
   },
   {
    "duration": 84,
    "start_time": "2022-01-04T15:34:01.427Z"
   },
   {
    "duration": 25,
    "start_time": "2022-01-04T15:34:01.514Z"
   },
   {
    "duration": 549,
    "start_time": "2022-01-04T16:52:11.204Z"
   },
   {
    "duration": 160,
    "start_time": "2022-01-04T16:52:13.463Z"
   },
   {
    "duration": 62,
    "start_time": "2022-01-04T16:52:15.541Z"
   },
   {
    "duration": 53,
    "start_time": "2022-01-04T16:52:20.196Z"
   },
   {
    "duration": 17,
    "start_time": "2022-01-04T16:52:22.428Z"
   },
   {
    "duration": 20,
    "start_time": "2022-01-04T16:52:25.476Z"
   },
   {
    "duration": 26,
    "start_time": "2022-01-04T16:52:27.389Z"
   },
   {
    "duration": 13,
    "start_time": "2022-01-04T16:52:33.528Z"
   },
   {
    "duration": 446,
    "start_time": "2022-01-04T16:52:35.805Z"
   },
   {
    "duration": 345,
    "start_time": "2022-01-04T16:53:43.996Z"
   },
   {
    "duration": 1326,
    "start_time": "2022-01-05T04:18:17.384Z"
   },
   {
    "duration": 192,
    "start_time": "2022-01-05T04:18:18.712Z"
   },
   {
    "duration": 79,
    "start_time": "2022-01-05T04:18:18.908Z"
   },
   {
    "duration": 57,
    "start_time": "2022-01-05T04:18:18.990Z"
   },
   {
    "duration": 22,
    "start_time": "2022-01-05T04:18:19.067Z"
   },
   {
    "duration": 22,
    "start_time": "2022-01-05T04:18:19.092Z"
   },
   {
    "duration": 64,
    "start_time": "2022-01-05T04:18:19.117Z"
   },
   {
    "duration": 14,
    "start_time": "2022-01-05T04:18:19.187Z"
   },
   {
    "duration": 4,
    "start_time": "2022-01-05T04:18:19.204Z"
   },
   {
    "duration": 88,
    "start_time": "2022-01-05T04:18:19.211Z"
   },
   {
    "duration": 47,
    "start_time": "2022-01-05T04:18:19.303Z"
   },
   {
    "duration": 49,
    "start_time": "2022-01-05T04:18:19.367Z"
   },
   {
    "duration": 69,
    "start_time": "2022-01-05T04:18:19.418Z"
   },
   {
    "duration": 78,
    "start_time": "2022-01-05T04:18:19.489Z"
   },
   {
    "duration": 25,
    "start_time": "2022-01-05T04:18:19.569Z"
   },
   {
    "duration": 407,
    "start_time": "2022-01-05T04:20:09.401Z"
   },
   {
    "duration": 1254,
    "start_time": "2022-01-05T04:20:18.004Z"
   },
   {
    "duration": 187,
    "start_time": "2022-01-05T04:20:19.261Z"
   },
   {
    "duration": 72,
    "start_time": "2022-01-05T04:20:19.451Z"
   },
   {
    "duration": 68,
    "start_time": "2022-01-05T04:20:19.526Z"
   },
   {
    "duration": 19,
    "start_time": "2022-01-05T04:20:19.597Z"
   },
   {
    "duration": 19,
    "start_time": "2022-01-05T04:20:19.619Z"
   },
   {
    "duration": 50,
    "start_time": "2022-01-05T04:20:19.640Z"
   },
   {
    "duration": 12,
    "start_time": "2022-01-05T04:20:19.693Z"
   },
   {
    "duration": 4,
    "start_time": "2022-01-05T04:20:19.707Z"
   },
   {
    "duration": 88,
    "start_time": "2022-01-05T04:20:19.714Z"
   },
   {
    "duration": 48,
    "start_time": "2022-01-05T04:20:19.804Z"
   },
   {
    "duration": 50,
    "start_time": "2022-01-05T04:20:19.868Z"
   },
   {
    "duration": 72,
    "start_time": "2022-01-05T04:20:19.920Z"
   },
   {
    "duration": 78,
    "start_time": "2022-01-05T04:20:19.995Z"
   },
   {
    "duration": 384,
    "start_time": "2022-01-05T04:20:20.076Z"
   },
   {
    "duration": 520,
    "start_time": "2022-01-05T04:21:08.954Z"
   },
   {
    "duration": 167,
    "start_time": "2022-01-05T04:21:10.420Z"
   },
   {
    "duration": 63,
    "start_time": "2022-01-05T04:21:12.022Z"
   },
   {
    "duration": 48,
    "start_time": "2022-01-05T04:21:16.561Z"
   },
   {
    "duration": 15,
    "start_time": "2022-01-05T04:21:18.688Z"
   },
   {
    "duration": 21,
    "start_time": "2022-01-05T04:21:20.248Z"
   },
   {
    "duration": 25,
    "start_time": "2022-01-05T04:21:22.305Z"
   },
   {
    "duration": 12,
    "start_time": "2022-01-05T04:21:25.119Z"
   },
   {
    "duration": 3,
    "start_time": "2022-01-05T04:21:28.182Z"
   },
   {
    "duration": 49,
    "start_time": "2022-01-05T04:21:37.466Z"
   },
   {
    "duration": 48,
    "start_time": "2022-01-05T04:21:40.858Z"
   },
   {
    "duration": 45,
    "start_time": "2022-01-05T04:21:47.800Z"
   },
   {
    "duration": 50,
    "start_time": "2022-01-05T04:21:51.602Z"
   },
   {
    "duration": 67,
    "start_time": "2022-01-05T04:21:55.006Z"
   },
   {
    "duration": 653,
    "start_time": "2022-01-05T04:22:01.858Z"
   },
   {
    "duration": 1309,
    "start_time": "2022-01-05T04:22:41.494Z"
   },
   {
    "duration": 190,
    "start_time": "2022-01-05T04:22:42.806Z"
   },
   {
    "duration": 82,
    "start_time": "2022-01-05T04:22:43.001Z"
   },
   {
    "duration": 52,
    "start_time": "2022-01-05T04:22:43.086Z"
   },
   {
    "duration": 37,
    "start_time": "2022-01-05T04:22:43.141Z"
   },
   {
    "duration": 29,
    "start_time": "2022-01-05T04:22:43.180Z"
   },
   {
    "duration": 28,
    "start_time": "2022-01-05T04:22:43.214Z"
   },
   {
    "duration": 33,
    "start_time": "2022-01-05T04:22:43.244Z"
   },
   {
    "duration": 7,
    "start_time": "2022-01-05T04:22:43.279Z"
   },
   {
    "duration": 80,
    "start_time": "2022-01-05T04:22:43.288Z"
   },
   {
    "duration": 49,
    "start_time": "2022-01-05T04:22:43.371Z"
   },
   {
    "duration": 70,
    "start_time": "2022-01-05T04:22:43.422Z"
   },
   {
    "duration": 48,
    "start_time": "2022-01-05T04:22:43.495Z"
   },
   {
    "duration": 84,
    "start_time": "2022-01-05T04:22:43.545Z"
   },
   {
    "duration": 52,
    "start_time": "2022-01-05T04:22:43.632Z"
   },
   {
    "duration": 7711,
    "start_time": "2022-01-05T04:48:45.306Z"
   },
   {
    "duration": 736,
    "start_time": "2022-01-05T04:50:44.734Z"
   },
   {
    "duration": 1288,
    "start_time": "2022-01-05T04:51:31.388Z"
   },
   {
    "duration": 192,
    "start_time": "2022-01-05T04:51:32.679Z"
   },
   {
    "duration": 63,
    "start_time": "2022-01-05T04:51:32.875Z"
   },
   {
    "duration": 68,
    "start_time": "2022-01-05T04:51:32.941Z"
   },
   {
    "duration": 19,
    "start_time": "2022-01-05T04:51:33.012Z"
   },
   {
    "duration": 45,
    "start_time": "2022-01-05T04:51:33.034Z"
   },
   {
    "duration": 25,
    "start_time": "2022-01-05T04:51:33.082Z"
   },
   {
    "duration": 12,
    "start_time": "2022-01-05T04:51:33.110Z"
   },
   {
    "duration": 41,
    "start_time": "2022-01-05T04:51:33.126Z"
   },
   {
    "duration": 55,
    "start_time": "2022-01-05T04:51:33.170Z"
   },
   {
    "duration": 74,
    "start_time": "2022-01-05T04:51:33.227Z"
   },
   {
    "duration": 63,
    "start_time": "2022-01-05T04:51:33.304Z"
   },
   {
    "duration": 50,
    "start_time": "2022-01-05T04:51:33.370Z"
   },
   {
    "duration": 84,
    "start_time": "2022-01-05T04:51:33.422Z"
   },
   {
    "duration": 32,
    "start_time": "2022-01-05T04:51:33.508Z"
   },
   {
    "duration": 687,
    "start_time": "2022-01-05T04:51:33.543Z"
   },
   {
    "duration": 1223,
    "start_time": "2022-01-05T04:59:05.717Z"
   },
   {
    "duration": 186,
    "start_time": "2022-01-05T04:59:06.943Z"
   },
   {
    "duration": 76,
    "start_time": "2022-01-05T04:59:07.132Z"
   },
   {
    "duration": 64,
    "start_time": "2022-01-05T04:59:07.212Z"
   },
   {
    "duration": 20,
    "start_time": "2022-01-05T04:59:07.279Z"
   },
   {
    "duration": 20,
    "start_time": "2022-01-05T04:59:07.301Z"
   },
   {
    "duration": 57,
    "start_time": "2022-01-05T04:59:07.324Z"
   },
   {
    "duration": 15,
    "start_time": "2022-01-05T04:59:07.384Z"
   },
   {
    "duration": 9,
    "start_time": "2022-01-05T04:59:07.404Z"
   },
   {
    "duration": 82,
    "start_time": "2022-01-05T04:59:07.416Z"
   },
   {
    "duration": 67,
    "start_time": "2022-01-05T04:59:07.501Z"
   },
   {
    "duration": 50,
    "start_time": "2022-01-05T04:59:07.572Z"
   },
   {
    "duration": 76,
    "start_time": "2022-01-05T04:59:07.626Z"
   },
   {
    "duration": 80,
    "start_time": "2022-01-05T04:59:07.705Z"
   },
   {
    "duration": 31,
    "start_time": "2022-01-05T04:59:07.788Z"
   },
   {
    "duration": 760,
    "start_time": "2022-01-05T04:59:07.822Z"
   },
   {
    "duration": 1699,
    "start_time": "2022-01-05T05:10:29.606Z"
   },
   {
    "duration": 191,
    "start_time": "2022-01-05T05:10:31.308Z"
   },
   {
    "duration": 77,
    "start_time": "2022-01-05T05:10:31.503Z"
   },
   {
    "duration": 54,
    "start_time": "2022-01-05T05:10:31.583Z"
   },
   {
    "duration": 42,
    "start_time": "2022-01-05T05:10:31.639Z"
   },
   {
    "duration": 20,
    "start_time": "2022-01-05T05:10:31.683Z"
   },
   {
    "duration": 26,
    "start_time": "2022-01-05T05:10:31.706Z"
   },
   {
    "duration": 43,
    "start_time": "2022-01-05T05:10:31.735Z"
   },
   {
    "duration": 9,
    "start_time": "2022-01-05T05:10:31.781Z"
   },
   {
    "duration": 75,
    "start_time": "2022-01-05T05:10:31.793Z"
   },
   {
    "duration": 50,
    "start_time": "2022-01-05T05:10:31.871Z"
   },
   {
    "duration": 75,
    "start_time": "2022-01-05T05:10:31.923Z"
   },
   {
    "duration": 47,
    "start_time": "2022-01-05T05:10:32.000Z"
   },
   {
    "duration": 77,
    "start_time": "2022-01-05T05:10:32.049Z"
   },
   {
    "duration": 51,
    "start_time": "2022-01-05T05:10:32.129Z"
   },
   {
    "duration": 274,
    "start_time": "2022-01-05T05:10:32.182Z"
   },
   {
    "duration": 1322,
    "start_time": "2022-01-05T05:16:49.822Z"
   },
   {
    "duration": 185,
    "start_time": "2022-01-05T05:16:51.147Z"
   },
   {
    "duration": 71,
    "start_time": "2022-01-05T05:16:51.335Z"
   },
   {
    "duration": 63,
    "start_time": "2022-01-05T05:16:51.410Z"
   },
   {
    "duration": 20,
    "start_time": "2022-01-05T05:16:51.476Z"
   },
   {
    "duration": 19,
    "start_time": "2022-01-05T05:16:51.498Z"
   },
   {
    "duration": 55,
    "start_time": "2022-01-05T05:16:51.520Z"
   },
   {
    "duration": 12,
    "start_time": "2022-01-05T05:16:51.579Z"
   },
   {
    "duration": 3,
    "start_time": "2022-01-05T05:16:51.594Z"
   },
   {
    "duration": 85,
    "start_time": "2022-01-05T05:16:51.600Z"
   },
   {
    "duration": 45,
    "start_time": "2022-01-05T05:16:51.687Z"
   },
   {
    "duration": 67,
    "start_time": "2022-01-05T05:16:51.735Z"
   },
   {
    "duration": 64,
    "start_time": "2022-01-05T05:16:51.805Z"
   },
   {
    "duration": 60,
    "start_time": "2022-01-05T05:16:51.872Z"
   },
   {
    "duration": 48,
    "start_time": "2022-01-05T05:16:51.934Z"
   },
   {
    "duration": 355,
    "start_time": "2022-01-05T05:16:51.984Z"
   },
   {
    "duration": 1323,
    "start_time": "2022-01-05T05:23:50.367Z"
   },
   {
    "duration": 191,
    "start_time": "2022-01-05T05:23:51.693Z"
   },
   {
    "duration": 64,
    "start_time": "2022-01-05T05:23:51.887Z"
   },
   {
    "duration": 65,
    "start_time": "2022-01-05T05:23:51.953Z"
   },
   {
    "duration": 19,
    "start_time": "2022-01-05T05:23:52.020Z"
   },
   {
    "duration": 43,
    "start_time": "2022-01-05T05:23:52.042Z"
   },
   {
    "duration": 26,
    "start_time": "2022-01-05T05:23:52.087Z"
   },
   {
    "duration": 49,
    "start_time": "2022-01-05T05:23:52.119Z"
   },
   {
    "duration": 7,
    "start_time": "2022-01-05T05:23:52.171Z"
   },
   {
    "duration": 57,
    "start_time": "2022-01-05T05:23:52.180Z"
   },
   {
    "duration": 69,
    "start_time": "2022-01-05T05:23:52.240Z"
   },
   {
    "duration": 65,
    "start_time": "2022-01-05T05:23:52.311Z"
   },
   {
    "duration": 50,
    "start_time": "2022-01-05T05:23:52.378Z"
   },
   {
    "duration": 88,
    "start_time": "2022-01-05T05:23:52.431Z"
   },
   {
    "duration": 49,
    "start_time": "2022-01-05T05:23:52.521Z"
   },
   {
    "duration": 552,
    "start_time": "2022-01-05T05:23:52.572Z"
   },
   {
    "duration": 1343,
    "start_time": "2022-01-05T05:45:58.537Z"
   },
   {
    "duration": 189,
    "start_time": "2022-01-05T05:45:59.883Z"
   },
   {
    "duration": 68,
    "start_time": "2022-01-05T05:46:00.075Z"
   },
   {
    "duration": 70,
    "start_time": "2022-01-05T05:46:00.146Z"
   },
   {
    "duration": 21,
    "start_time": "2022-01-05T05:46:00.218Z"
   },
   {
    "duration": 46,
    "start_time": "2022-01-05T05:46:00.241Z"
   },
   {
    "duration": 34,
    "start_time": "2022-01-05T05:46:00.289Z"
   },
   {
    "duration": 20,
    "start_time": "2022-01-05T05:46:00.327Z"
   },
   {
    "duration": 4,
    "start_time": "2022-01-05T05:46:00.368Z"
   },
   {
    "duration": 60,
    "start_time": "2022-01-05T05:46:00.374Z"
   },
   {
    "duration": 72,
    "start_time": "2022-01-05T05:46:00.437Z"
   },
   {
    "duration": 71,
    "start_time": "2022-01-05T05:46:00.512Z"
   },
   {
    "duration": 51,
    "start_time": "2022-01-05T05:46:00.585Z"
   },
   {
    "duration": 90,
    "start_time": "2022-01-05T05:46:00.639Z"
   },
   {
    "duration": 49,
    "start_time": "2022-01-05T05:46:00.731Z"
   },
   {
    "duration": 844,
    "start_time": "2022-01-05T05:46:00.783Z"
   },
   {
    "duration": 1323,
    "start_time": "2022-01-05T06:01:00.977Z"
   },
   {
    "duration": 190,
    "start_time": "2022-01-05T06:01:02.303Z"
   },
   {
    "duration": 81,
    "start_time": "2022-01-05T06:01:02.499Z"
   },
   {
    "duration": 52,
    "start_time": "2022-01-05T06:01:02.583Z"
   },
   {
    "duration": 41,
    "start_time": "2022-01-05T06:01:02.637Z"
   },
   {
    "duration": 20,
    "start_time": "2022-01-05T06:01:02.681Z"
   },
   {
    "duration": 28,
    "start_time": "2022-01-05T06:01:02.705Z"
   },
   {
    "duration": 43,
    "start_time": "2022-01-05T06:01:02.736Z"
   },
   {
    "duration": 32,
    "start_time": "2022-01-05T06:01:02.781Z"
   },
   {
    "duration": 71,
    "start_time": "2022-01-05T06:01:02.815Z"
   },
   {
    "duration": 45,
    "start_time": "2022-01-05T06:01:02.889Z"
   },
   {
    "duration": 69,
    "start_time": "2022-01-05T06:01:02.937Z"
   },
   {
    "duration": 60,
    "start_time": "2022-01-05T06:01:03.009Z"
   },
   {
    "duration": 65,
    "start_time": "2022-01-05T06:01:03.072Z"
   },
   {
    "duration": 51,
    "start_time": "2022-01-05T06:01:03.140Z"
   },
   {
    "duration": 1053,
    "start_time": "2022-01-05T06:01:03.194Z"
   },
   {
    "duration": 1268,
    "start_time": "2022-01-05T06:19:43.287Z"
   },
   {
    "duration": 209,
    "start_time": "2022-01-05T06:19:44.558Z"
   },
   {
    "duration": 65,
    "start_time": "2022-01-05T06:19:44.770Z"
   },
   {
    "duration": 74,
    "start_time": "2022-01-05T06:19:44.838Z"
   },
   {
    "duration": 20,
    "start_time": "2022-01-05T06:19:44.915Z"
   },
   {
    "duration": 33,
    "start_time": "2022-01-05T06:19:44.937Z"
   },
   {
    "duration": 28,
    "start_time": "2022-01-05T06:19:44.972Z"
   },
   {
    "duration": 23,
    "start_time": "2022-01-05T06:19:45.003Z"
   },
   {
    "duration": 23,
    "start_time": "2022-01-05T06:19:45.029Z"
   },
   {
    "duration": 71,
    "start_time": "2022-01-05T06:19:45.055Z"
   },
   {
    "duration": 68,
    "start_time": "2022-01-05T06:19:45.128Z"
   },
   {
    "duration": 51,
    "start_time": "2022-01-05T06:19:45.198Z"
   },
   {
    "duration": 48,
    "start_time": "2022-01-05T06:19:45.267Z"
   },
   {
    "duration": 82,
    "start_time": "2022-01-05T06:19:45.317Z"
   },
   {
    "duration": 29,
    "start_time": "2022-01-05T06:19:45.401Z"
   },
   {
    "duration": 1065,
    "start_time": "2022-01-05T06:19:45.433Z"
   },
   {
    "duration": 1298,
    "start_time": "2022-01-05T06:44:09.947Z"
   },
   {
    "duration": 187,
    "start_time": "2022-01-05T06:44:11.247Z"
   },
   {
    "duration": 75,
    "start_time": "2022-01-05T06:44:11.437Z"
   },
   {
    "duration": 66,
    "start_time": "2022-01-05T06:44:11.515Z"
   },
   {
    "duration": 20,
    "start_time": "2022-01-05T06:44:11.584Z"
   },
   {
    "duration": 25,
    "start_time": "2022-01-05T06:44:11.607Z"
   },
   {
    "duration": 41,
    "start_time": "2022-01-05T06:44:11.634Z"
   },
   {
    "duration": 58,
    "start_time": "2022-01-05T06:44:11.678Z"
   },
   {
    "duration": 69,
    "start_time": "2022-01-05T06:44:11.739Z"
   },
   {
    "duration": 69,
    "start_time": "2022-01-05T06:44:11.810Z"
   },
   {
    "duration": 47,
    "start_time": "2022-01-05T06:44:11.882Z"
   },
   {
    "duration": 80,
    "start_time": "2022-01-05T06:44:11.931Z"
   },
   {
    "duration": 26,
    "start_time": "2022-01-05T06:44:12.014Z"
   },
   {
    "duration": 1054,
    "start_time": "2022-01-05T06:44:12.042Z"
   },
   {
    "duration": 23,
    "start_time": "2022-01-05T07:06:50.266Z"
   },
   {
    "duration": 25,
    "start_time": "2022-01-05T07:09:29.124Z"
   },
   {
    "duration": 23,
    "start_time": "2022-01-05T07:16:13.514Z"
   },
   {
    "duration": 37,
    "start_time": "2022-01-05T07:19:21.182Z"
   },
   {
    "duration": 36,
    "start_time": "2022-01-05T07:21:23.987Z"
   },
   {
    "duration": 1368,
    "start_time": "2022-01-05T07:45:15.130Z"
   },
   {
    "duration": 191,
    "start_time": "2022-01-05T07:45:16.501Z"
   },
   {
    "duration": 73,
    "start_time": "2022-01-05T07:45:16.695Z"
   },
   {
    "duration": 53,
    "start_time": "2022-01-05T07:45:16.771Z"
   },
   {
    "duration": 19,
    "start_time": "2022-01-05T07:45:16.826Z"
   },
   {
    "duration": 25,
    "start_time": "2022-01-05T07:45:16.868Z"
   },
   {
    "duration": 26,
    "start_time": "2022-01-05T07:45:16.895Z"
   },
   {
    "duration": 67,
    "start_time": "2022-01-05T07:45:16.925Z"
   },
   {
    "duration": 46,
    "start_time": "2022-01-05T07:45:16.995Z"
   },
   {
    "duration": 61,
    "start_time": "2022-01-05T07:45:17.044Z"
   },
   {
    "duration": 29,
    "start_time": "2022-01-05T07:45:17.108Z"
   },
   {
    "duration": 32,
    "start_time": "2022-01-05T07:45:17.168Z"
   },
   {
    "duration": 25,
    "start_time": "2022-01-05T07:45:17.202Z"
   },
   {
    "duration": 978,
    "start_time": "2022-01-05T07:45:17.229Z"
   },
   {
    "duration": 36,
    "start_time": "2022-01-05T07:45:18.210Z"
   },
   {
    "duration": 7698,
    "start_time": "2022-01-05T08:03:05.403Z"
   },
   {
    "duration": 50,
    "start_time": "2022-01-05T08:03:45.199Z"
   },
   {
    "duration": 550,
    "start_time": "2022-01-05T08:04:38.805Z"
   },
   {
    "duration": 169,
    "start_time": "2022-01-05T08:04:46.166Z"
   },
   {
    "duration": 65,
    "start_time": "2022-01-05T08:04:47.799Z"
   },
   {
    "duration": 54,
    "start_time": "2022-01-05T08:04:50.995Z"
   },
   {
    "duration": 17,
    "start_time": "2022-01-05T08:04:52.549Z"
   },
   {
    "duration": 32,
    "start_time": "2022-01-05T08:04:53.871Z"
   },
   {
    "duration": 13,
    "start_time": "2022-01-05T08:04:55.081Z"
   },
   {
    "duration": 53,
    "start_time": "2022-01-05T08:04:56.715Z"
   },
   {
    "duration": 47,
    "start_time": "2022-01-05T08:04:58.153Z"
   },
   {
    "duration": 43,
    "start_time": "2022-01-05T08:04:59.657Z"
   },
   {
    "duration": 51,
    "start_time": "2022-01-05T08:05:01.333Z"
   },
   {
    "duration": 65,
    "start_time": "2022-01-05T08:05:02.974Z"
   },
   {
    "duration": 28,
    "start_time": "2022-01-05T08:05:04.613Z"
   },
   {
    "duration": 1139,
    "start_time": "2022-01-05T08:05:06.030Z"
   },
   {
    "duration": 35,
    "start_time": "2022-01-05T08:05:19.068Z"
   },
   {
    "duration": 355,
    "start_time": "2022-01-05T08:05:30.604Z"
   },
   {
    "duration": 92,
    "start_time": "2022-01-05T08:07:08.356Z"
   },
   {
    "duration": 1345,
    "start_time": "2022-01-05T08:12:46.748Z"
   },
   {
    "duration": 194,
    "start_time": "2022-01-05T08:12:48.096Z"
   },
   {
    "duration": 78,
    "start_time": "2022-01-05T08:12:48.292Z"
   },
   {
    "duration": 53,
    "start_time": "2022-01-05T08:12:48.373Z"
   },
   {
    "duration": 39,
    "start_time": "2022-01-05T08:12:48.429Z"
   },
   {
    "duration": 27,
    "start_time": "2022-01-05T08:12:48.471Z"
   },
   {
    "duration": 17,
    "start_time": "2022-01-05T08:12:48.501Z"
   },
   {
    "duration": 84,
    "start_time": "2022-01-05T08:12:48.521Z"
   },
   {
    "duration": 69,
    "start_time": "2022-01-05T08:12:48.608Z"
   },
   {
    "duration": 50,
    "start_time": "2022-01-05T08:12:48.679Z"
   },
   {
    "duration": 73,
    "start_time": "2022-01-05T08:12:48.731Z"
   },
   {
    "duration": 78,
    "start_time": "2022-01-05T08:12:48.806Z"
   },
   {
    "duration": 27,
    "start_time": "2022-01-05T08:12:48.886Z"
   },
   {
    "duration": 1049,
    "start_time": "2022-01-05T08:12:48.915Z"
   },
   {
    "duration": 35,
    "start_time": "2022-01-05T08:12:49.967Z"
   },
   {
    "duration": 3,
    "start_time": "2022-01-05T08:12:50.005Z"
   },
   {
    "duration": 23,
    "start_time": "2022-01-05T08:18:37.609Z"
   },
   {
    "duration": 22,
    "start_time": "2022-01-05T08:20:50.744Z"
   },
   {
    "duration": 21,
    "start_time": "2022-01-05T08:21:42.954Z"
   },
   {
    "duration": 1289,
    "start_time": "2022-01-05T08:28:05.974Z"
   },
   {
    "duration": 186,
    "start_time": "2022-01-05T08:28:07.265Z"
   },
   {
    "duration": 69,
    "start_time": "2022-01-05T08:28:07.454Z"
   },
   {
    "duration": 59,
    "start_time": "2022-01-05T08:28:07.525Z"
   },
   {
    "duration": 23,
    "start_time": "2022-01-05T08:28:07.587Z"
   },
   {
    "duration": 25,
    "start_time": "2022-01-05T08:28:07.612Z"
   },
   {
    "duration": 21,
    "start_time": "2022-01-05T08:28:07.640Z"
   },
   {
    "duration": 56,
    "start_time": "2022-01-05T08:28:07.663Z"
   },
   {
    "duration": 47,
    "start_time": "2022-01-05T08:28:07.723Z"
   },
   {
    "duration": 48,
    "start_time": "2022-01-05T08:28:07.773Z"
   },
   {
    "duration": 54,
    "start_time": "2022-01-05T08:28:07.823Z"
   },
   {
    "duration": 70,
    "start_time": "2022-01-05T08:28:07.879Z"
   },
   {
    "duration": 34,
    "start_time": "2022-01-05T08:28:07.952Z"
   },
   {
    "duration": 1172,
    "start_time": "2022-01-05T08:28:07.988Z"
   },
   {
    "duration": 43,
    "start_time": "2022-01-05T08:28:09.162Z"
   },
   {
    "duration": 3,
    "start_time": "2022-01-05T08:28:09.207Z"
   },
   {
    "duration": 55,
    "start_time": "2022-01-05T08:28:09.212Z"
   },
   {
    "duration": 465,
    "start_time": "2022-01-05T08:39:39.657Z"
   },
   {
    "duration": 372,
    "start_time": "2022-01-05T08:41:19.103Z"
   },
   {
    "duration": 531,
    "start_time": "2022-01-05T08:46:02.962Z"
   },
   {
    "duration": 169,
    "start_time": "2022-01-05T08:46:05.740Z"
   },
   {
    "duration": 78,
    "start_time": "2022-01-05T08:46:08.546Z"
   },
   {
    "duration": 52,
    "start_time": "2022-01-05T08:46:12.716Z"
   },
   {
    "duration": 16,
    "start_time": "2022-01-05T08:46:14.375Z"
   },
   {
    "duration": 29,
    "start_time": "2022-01-05T08:46:17.687Z"
   },
   {
    "duration": 13,
    "start_time": "2022-01-05T08:46:21.067Z"
   },
   {
    "duration": 49,
    "start_time": "2022-01-05T08:46:23.723Z"
   },
   {
    "duration": 46,
    "start_time": "2022-01-05T08:46:25.726Z"
   },
   {
    "duration": 44,
    "start_time": "2022-01-05T08:46:29.204Z"
   },
   {
    "duration": 52,
    "start_time": "2022-01-05T08:46:32.336Z"
   },
   {
    "duration": 66,
    "start_time": "2022-01-05T08:46:38.329Z"
   },
   {
    "duration": 28,
    "start_time": "2022-01-05T08:46:48.500Z"
   },
   {
    "duration": 1181,
    "start_time": "2022-01-05T08:46:53.843Z"
   },
   {
    "duration": 45,
    "start_time": "2022-01-05T08:47:38.537Z"
   },
   {
    "duration": 4,
    "start_time": "2022-01-05T08:47:45.455Z"
   },
   {
    "duration": 70,
    "start_time": "2022-01-05T08:47:52.972Z"
   },
   {
    "duration": 56,
    "start_time": "2022-01-05T08:55:13.423Z"
   },
   {
    "duration": 68,
    "start_time": "2022-01-05T08:59:09.489Z"
   },
   {
    "duration": 73,
    "start_time": "2022-01-05T09:01:56.036Z"
   },
   {
    "duration": 97,
    "start_time": "2022-01-05T09:06:17.260Z"
   },
   {
    "duration": 1354,
    "start_time": "2022-01-05T09:09:16.963Z"
   },
   {
    "duration": 194,
    "start_time": "2022-01-05T09:09:18.319Z"
   },
   {
    "duration": 78,
    "start_time": "2022-01-05T09:09:18.516Z"
   },
   {
    "duration": 51,
    "start_time": "2022-01-05T09:09:18.597Z"
   },
   {
    "duration": 30,
    "start_time": "2022-01-05T09:09:18.650Z"
   },
   {
    "duration": 25,
    "start_time": "2022-01-05T09:09:18.682Z"
   },
   {
    "duration": 15,
    "start_time": "2022-01-05T09:09:18.709Z"
   },
   {
    "duration": 85,
    "start_time": "2022-01-05T09:09:18.727Z"
   },
   {
    "duration": 61,
    "start_time": "2022-01-05T09:09:18.815Z"
   },
   {
    "duration": 51,
    "start_time": "2022-01-05T09:09:18.878Z"
   },
   {
    "duration": 64,
    "start_time": "2022-01-05T09:09:18.931Z"
   },
   {
    "duration": 81,
    "start_time": "2022-01-05T09:09:18.997Z"
   },
   {
    "duration": 24,
    "start_time": "2022-01-05T09:09:19.080Z"
   },
   {
    "duration": 1072,
    "start_time": "2022-01-05T09:09:19.107Z"
   },
   {
    "duration": 38,
    "start_time": "2022-01-05T09:09:20.182Z"
   },
   {
    "duration": 123,
    "start_time": "2022-01-05T09:09:20.223Z"
   },
   {
    "duration": 86,
    "start_time": "2022-01-05T09:24:09.894Z"
   },
   {
    "duration": 10,
    "start_time": "2022-01-05T09:37:55.065Z"
   },
   {
    "duration": 10,
    "start_time": "2022-01-05T09:39:30.022Z"
   },
   {
    "duration": 4,
    "start_time": "2022-01-05T09:45:37.175Z"
   },
   {
    "duration": 4,
    "start_time": "2022-01-05T09:46:12.589Z"
   },
   {
    "duration": 383,
    "start_time": "2022-01-05T09:48:53.564Z"
   },
   {
    "duration": 6,
    "start_time": "2022-01-05T09:52:29.129Z"
   },
   {
    "duration": 6,
    "start_time": "2022-01-05T09:54:02.308Z"
   },
   {
    "duration": 6,
    "start_time": "2022-01-05T10:27:31.417Z"
   },
   {
    "duration": 8,
    "start_time": "2022-01-05T10:28:04.254Z"
   },
   {
    "duration": 7,
    "start_time": "2022-01-05T10:36:48.632Z"
   },
   {
    "duration": 9,
    "start_time": "2022-01-05T10:39:49.822Z"
   },
   {
    "duration": 446,
    "start_time": "2022-01-05T10:48:22.224Z"
   },
   {
    "duration": 648,
    "start_time": "2022-01-05T10:49:03.174Z"
   },
   {
    "duration": 317,
    "start_time": "2022-01-05T10:49:23.029Z"
   },
   {
    "duration": 322,
    "start_time": "2022-01-05T10:53:50.109Z"
   },
   {
    "duration": 322,
    "start_time": "2022-01-05T10:59:37.213Z"
   },
   {
    "duration": 342,
    "start_time": "2022-01-05T11:08:11.125Z"
   },
   {
    "duration": 585,
    "start_time": "2022-01-05T11:09:07.876Z"
   },
   {
    "duration": 301,
    "start_time": "2022-01-05T11:09:23.392Z"
   },
   {
    "duration": 306,
    "start_time": "2022-01-05T11:10:38.778Z"
   },
   {
    "duration": 306,
    "start_time": "2022-01-05T11:10:58.122Z"
   },
   {
    "duration": 314,
    "start_time": "2022-01-05T11:20:23.192Z"
   },
   {
    "duration": 435,
    "start_time": "2022-01-05T11:21:00.470Z"
   },
   {
    "duration": 339,
    "start_time": "2022-01-05T11:23:24.248Z"
   },
   {
    "duration": 328,
    "start_time": "2022-01-05T11:23:46.350Z"
   },
   {
    "duration": 314,
    "start_time": "2022-01-05T11:24:11.069Z"
   },
   {
    "duration": 374,
    "start_time": "2022-01-05T11:37:59.363Z"
   },
   {
    "duration": 322,
    "start_time": "2022-01-05T11:38:28.585Z"
   },
   {
    "duration": 383,
    "start_time": "2022-01-05T11:38:38.003Z"
   },
   {
    "duration": 389,
    "start_time": "2022-01-05T11:38:53.114Z"
   },
   {
    "duration": 355,
    "start_time": "2022-01-05T11:39:03.137Z"
   },
   {
    "duration": 344,
    "start_time": "2022-01-05T11:51:55.365Z"
   },
   {
    "duration": 313,
    "start_time": "2022-01-05T11:57:43.918Z"
   },
   {
    "duration": 544,
    "start_time": "2022-01-05T12:30:36.180Z"
   },
   {
    "duration": 10,
    "start_time": "2022-01-05T12:36:15.560Z"
   },
   {
    "duration": 20,
    "start_time": "2022-01-05T12:57:28.104Z"
   },
   {
    "duration": 100,
    "start_time": "2022-01-05T13:11:32.179Z"
   },
   {
    "duration": 20,
    "start_time": "2022-01-05T13:13:27.285Z"
   },
   {
    "duration": 26,
    "start_time": "2022-01-05T13:20:08.379Z"
   },
   {
    "duration": 13,
    "start_time": "2022-01-05T13:23:24.277Z"
   },
   {
    "duration": 17,
    "start_time": "2022-01-05T13:37:37.676Z"
   },
   {
    "duration": 17,
    "start_time": "2022-01-05T13:43:42.584Z"
   },
   {
    "duration": 1601,
    "start_time": "2022-01-05T14:43:05.576Z"
   },
   {
    "duration": 204,
    "start_time": "2022-01-05T14:43:07.181Z"
   },
   {
    "duration": 80,
    "start_time": "2022-01-05T14:43:07.388Z"
   },
   {
    "duration": 54,
    "start_time": "2022-01-05T14:43:07.472Z"
   },
   {
    "duration": 41,
    "start_time": "2022-01-05T14:43:07.528Z"
   },
   {
    "duration": 35,
    "start_time": "2022-01-05T14:43:07.571Z"
   },
   {
    "duration": 14,
    "start_time": "2022-01-05T14:43:07.609Z"
   },
   {
    "duration": 89,
    "start_time": "2022-01-05T14:43:07.628Z"
   },
   {
    "duration": 70,
    "start_time": "2022-01-05T14:43:07.721Z"
   },
   {
    "duration": 48,
    "start_time": "2022-01-05T14:43:07.794Z"
   },
   {
    "duration": 68,
    "start_time": "2022-01-05T14:43:07.844Z"
   },
   {
    "duration": 83,
    "start_time": "2022-01-05T14:43:07.915Z"
   },
   {
    "duration": 28,
    "start_time": "2022-01-05T14:43:08.000Z"
   },
   {
    "duration": 1204,
    "start_time": "2022-01-05T14:43:08.031Z"
   },
   {
    "duration": 53,
    "start_time": "2022-01-05T14:43:09.238Z"
   },
   {
    "duration": 107,
    "start_time": "2022-01-05T14:43:09.293Z"
   },
   {
    "duration": 113,
    "start_time": "2022-01-05T14:43:09.403Z"
   },
   {
    "duration": 450,
    "start_time": "2022-01-05T14:43:09.518Z"
   },
   {
    "duration": 347,
    "start_time": "2022-01-05T14:43:09.971Z"
   },
   {
    "duration": 391,
    "start_time": "2022-01-05T14:43:10.320Z"
   },
   {
    "duration": 405,
    "start_time": "2022-01-05T14:43:10.713Z"
   },
   {
    "duration": 353,
    "start_time": "2022-01-05T14:43:11.120Z"
   },
   {
    "duration": 369,
    "start_time": "2022-01-05T14:43:11.477Z"
   },
   {
    "duration": 493,
    "start_time": "2022-01-05T14:43:11.848Z"
   },
   {
    "duration": 31,
    "start_time": "2022-01-05T14:43:12.345Z"
   },
   {
    "duration": 19,
    "start_time": "2022-01-05T14:43:12.379Z"
   },
   {
    "duration": 2586,
    "start_time": "2022-01-06T16:10:09.161Z"
   },
   {
    "duration": 123,
    "start_time": "2022-01-06T16:10:11.749Z"
   },
   {
    "duration": 39,
    "start_time": "2022-01-06T16:10:11.874Z"
   },
   {
    "duration": 42,
    "start_time": "2022-01-06T16:10:11.915Z"
   },
   {
    "duration": 11,
    "start_time": "2022-01-06T16:10:11.959Z"
   },
   {
    "duration": 18,
    "start_time": "2022-01-06T16:10:11.972Z"
   },
   {
    "duration": 36,
    "start_time": "2022-01-06T16:10:11.992Z"
   },
   {
    "duration": 33,
    "start_time": "2022-01-06T16:10:12.030Z"
   },
   {
    "duration": 29,
    "start_time": "2022-01-06T16:10:12.066Z"
   },
   {
    "duration": 46,
    "start_time": "2022-01-06T16:10:12.096Z"
   },
   {
    "duration": 26,
    "start_time": "2022-01-06T16:10:12.144Z"
   },
   {
    "duration": 34,
    "start_time": "2022-01-06T16:10:12.172Z"
   },
   {
    "duration": 33,
    "start_time": "2022-01-06T16:10:12.207Z"
   },
   {
    "duration": 544,
    "start_time": "2022-01-06T16:10:12.241Z"
   },
   {
    "duration": 21,
    "start_time": "2022-01-06T16:10:12.786Z"
   },
   {
    "duration": 65,
    "start_time": "2022-01-06T16:10:12.809Z"
   },
   {
    "duration": 59,
    "start_time": "2022-01-06T16:10:12.875Z"
   },
   {
    "duration": 259,
    "start_time": "2022-01-06T16:10:12.936Z"
   },
   {
    "duration": 177,
    "start_time": "2022-01-06T16:10:13.197Z"
   },
   {
    "duration": 209,
    "start_time": "2022-01-06T16:10:13.376Z"
   },
   {
    "duration": 203,
    "start_time": "2022-01-06T16:10:13.587Z"
   },
   {
    "duration": 196,
    "start_time": "2022-01-06T16:10:13.792Z"
   },
   {
    "duration": 379,
    "start_time": "2022-01-06T16:10:13.990Z"
   },
   {
    "duration": 449,
    "start_time": "2022-01-06T16:10:14.371Z"
   },
   {
    "duration": 15,
    "start_time": "2022-01-06T16:10:14.822Z"
   },
   {
    "duration": 17,
    "start_time": "2022-01-06T16:10:14.839Z"
   },
   {
    "duration": 4,
    "start_time": "2022-01-06T16:14:30.061Z"
   },
   {
    "duration": 4,
    "start_time": "2022-01-06T16:14:37.529Z"
   },
   {
    "duration": 8,
    "start_time": "2022-01-06T16:14:57.427Z"
   },
   {
    "duration": 6,
    "start_time": "2022-01-06T16:16:54.355Z"
   },
   {
    "duration": 1588,
    "start_time": "2022-01-06T18:01:54.005Z"
   },
   {
    "duration": 137,
    "start_time": "2022-01-06T18:02:29.344Z"
   },
   {
    "duration": 50,
    "start_time": "2022-01-06T18:02:45.972Z"
   },
   {
    "duration": 38,
    "start_time": "2022-01-06T18:02:55.231Z"
   },
   {
    "duration": 14,
    "start_time": "2022-01-06T18:03:01.382Z"
   },
   {
    "duration": 17,
    "start_time": "2022-01-06T18:03:06.565Z"
   },
   {
    "duration": 9,
    "start_time": "2022-01-06T18:03:08.715Z"
   },
   {
    "duration": 39,
    "start_time": "2022-01-06T18:03:11.705Z"
   },
   {
    "duration": 37,
    "start_time": "2022-01-06T18:03:14.690Z"
   },
   {
    "duration": 34,
    "start_time": "2022-01-06T18:03:18.813Z"
   },
   {
    "duration": 34,
    "start_time": "2022-01-06T18:03:22.967Z"
   },
   {
    "duration": 42,
    "start_time": "2022-01-06T18:03:36.418Z"
   },
   {
    "duration": 17,
    "start_time": "2022-01-06T18:03:40.820Z"
   },
   {
    "duration": 4,
    "start_time": "2022-01-06T18:03:44.578Z"
   },
   {
    "duration": 5,
    "start_time": "2022-01-06T18:03:56.463Z"
   },
   {
    "duration": 674,
    "start_time": "2022-01-06T18:04:01.538Z"
   },
   {
    "duration": 9,
    "start_time": "2022-01-06T18:04:20.919Z"
   },
   {
    "duration": 24,
    "start_time": "2022-01-06T18:04:32.116Z"
   },
   {
    "duration": 56,
    "start_time": "2022-01-06T18:04:36.717Z"
   },
   {
    "duration": 58,
    "start_time": "2022-01-06T18:04:40.111Z"
   },
   {
    "duration": 208,
    "start_time": "2022-01-06T18:04:53.900Z"
   },
   {
    "duration": 192,
    "start_time": "2022-01-06T18:06:23.356Z"
   },
   {
    "duration": 221,
    "start_time": "2022-01-06T18:07:10.008Z"
   },
   {
    "duration": 207,
    "start_time": "2022-01-06T18:08:33.720Z"
   },
   {
    "duration": 209,
    "start_time": "2022-01-06T18:09:23.413Z"
   },
   {
    "duration": 211,
    "start_time": "2022-01-06T18:09:54.099Z"
   },
   {
    "duration": 7,
    "start_time": "2022-01-06T18:10:36.865Z"
   },
   {
    "duration": 14,
    "start_time": "2022-01-06T18:11:00.707Z"
   },
   {
    "duration": 16,
    "start_time": "2022-01-06T18:11:37.884Z"
   },
   {
    "duration": 552,
    "start_time": "2022-01-06T18:38:23.763Z"
   },
   {
    "duration": 122,
    "start_time": "2022-01-06T18:39:00.293Z"
   },
   {
    "duration": 57,
    "start_time": "2022-01-06T18:39:14.920Z"
   },
   {
    "duration": 40,
    "start_time": "2022-01-06T18:39:22.661Z"
   },
   {
    "duration": 10,
    "start_time": "2022-01-06T18:39:24.154Z"
   },
   {
    "duration": 19,
    "start_time": "2022-01-06T18:39:25.750Z"
   },
   {
    "duration": 15,
    "start_time": "2022-01-06T18:39:27.202Z"
   },
   {
    "duration": 41,
    "start_time": "2022-01-06T18:39:28.629Z"
   },
   {
    "duration": 33,
    "start_time": "2022-01-06T18:39:30.315Z"
   },
   {
    "duration": 44,
    "start_time": "2022-01-06T18:39:31.636Z"
   },
   {
    "duration": 32,
    "start_time": "2022-01-06T18:39:32.949Z"
   },
   {
    "duration": 63,
    "start_time": "2022-01-06T18:39:41.587Z"
   },
   {
    "duration": 26,
    "start_time": "2022-01-06T18:39:43.132Z"
   },
   {
    "duration": 4,
    "start_time": "2022-01-06T18:39:44.882Z"
   },
   {
    "duration": 5,
    "start_time": "2022-01-06T18:39:46.642Z"
   },
   {
    "duration": 678,
    "start_time": "2022-01-06T18:39:49.210Z"
   },
   {
    "duration": 10,
    "start_time": "2022-01-06T18:39:53.187Z"
   },
   {
    "duration": 36,
    "start_time": "2022-01-06T18:40:01.884Z"
   },
   {
    "duration": 3,
    "start_time": "2022-01-06T18:40:04.231Z"
   },
   {
    "duration": 3,
    "start_time": "2022-01-06T18:40:06.772Z"
   },
   {
    "duration": 206,
    "start_time": "2022-01-06T18:40:13.397Z"
   },
   {
    "duration": 286,
    "start_time": "2022-01-06T18:40:18.709Z"
   },
   {
    "duration": 230,
    "start_time": "2022-01-06T18:40:22.696Z"
   },
   {
    "duration": 228,
    "start_time": "2022-01-06T18:40:28.404Z"
   },
   {
    "duration": 210,
    "start_time": "2022-01-06T18:40:31.891Z"
   },
   {
    "duration": 258,
    "start_time": "2022-01-06T18:40:35.897Z"
   },
   {
    "duration": 9,
    "start_time": "2022-01-06T18:40:47.842Z"
   },
   {
    "duration": 20,
    "start_time": "2022-01-06T18:40:50.333Z"
   },
   {
    "duration": 12,
    "start_time": "2022-01-06T18:40:55.048Z"
   },
   {
    "duration": 1628,
    "start_time": "2022-01-06T18:41:24.368Z"
   },
   {
    "duration": 148,
    "start_time": "2022-01-06T18:41:25.999Z"
   },
   {
    "duration": 56,
    "start_time": "2022-01-06T18:41:26.149Z"
   },
   {
    "duration": 40,
    "start_time": "2022-01-06T18:41:26.207Z"
   },
   {
    "duration": 11,
    "start_time": "2022-01-06T18:41:26.248Z"
   },
   {
    "duration": 41,
    "start_time": "2022-01-06T18:41:26.261Z"
   },
   {
    "duration": 11,
    "start_time": "2022-01-06T18:41:26.305Z"
   },
   {
    "duration": 41,
    "start_time": "2022-01-06T18:41:26.318Z"
   },
   {
    "duration": 61,
    "start_time": "2022-01-06T18:41:26.361Z"
   },
   {
    "duration": 36,
    "start_time": "2022-01-06T18:41:26.424Z"
   },
   {
    "duration": 49,
    "start_time": "2022-01-06T18:41:26.461Z"
   },
   {
    "duration": 42,
    "start_time": "2022-01-06T18:41:26.512Z"
   },
   {
    "duration": 38,
    "start_time": "2022-01-06T18:41:26.556Z"
   },
   {
    "duration": 6,
    "start_time": "2022-01-06T18:41:26.596Z"
   },
   {
    "duration": 13,
    "start_time": "2022-01-06T18:41:26.606Z"
   },
   {
    "duration": 603,
    "start_time": "2022-01-06T18:41:26.620Z"
   },
   {
    "duration": 7,
    "start_time": "2022-01-06T18:41:27.225Z"
   },
   {
    "duration": 24,
    "start_time": "2022-01-06T18:41:27.234Z"
   },
   {
    "duration": 2,
    "start_time": "2022-01-06T18:41:27.260Z"
   },
   {
    "duration": 28,
    "start_time": "2022-01-06T18:41:27.264Z"
   },
   {
    "duration": 242,
    "start_time": "2022-01-06T18:41:27.295Z"
   },
   {
    "duration": 254,
    "start_time": "2022-01-06T18:41:27.539Z"
   },
   {
    "duration": 232,
    "start_time": "2022-01-06T18:41:27.798Z"
   },
   {
    "duration": 259,
    "start_time": "2022-01-06T18:41:28.032Z"
   },
   {
    "duration": 226,
    "start_time": "2022-01-06T18:41:28.294Z"
   },
   {
    "duration": 249,
    "start_time": "2022-01-06T18:41:28.522Z"
   },
   {
    "duration": 18,
    "start_time": "2022-01-06T18:41:28.773Z"
   },
   {
    "duration": 15,
    "start_time": "2022-01-06T18:41:28.793Z"
   },
   {
    "duration": 16,
    "start_time": "2022-01-06T18:41:28.810Z"
   }
  ],
  "kernelspec": {
   "display_name": "Python 3 (ipykernel)",
   "language": "python",
   "name": "python3"
  },
  "language_info": {
   "codemirror_mode": {
    "name": "ipython",
    "version": 3
   },
   "file_extension": ".py",
   "mimetype": "text/x-python",
   "name": "python",
   "nbconvert_exporter": "python",
   "pygments_lexer": "ipython3",
   "version": "3.9.5"
  },
  "toc": {
   "base_numbering": 1,
   "nav_menu": {},
   "number_sections": true,
   "sideBar": true,
   "skip_h1_title": true,
   "title_cell": "Table of Contents",
   "title_sidebar": "Contents",
   "toc_cell": false,
   "toc_position": {},
   "toc_section_display": true,
   "toc_window_display": false
  }
 },
 "nbformat": 4,
 "nbformat_minor": 2
}
